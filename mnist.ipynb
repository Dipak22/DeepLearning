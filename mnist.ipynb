{
  "nbformat": 4,
  "nbformat_minor": 0,
  "metadata": {
    "colab": {
      "provenance": [],
      "gpuType": "T4",
      "authorship_tag": "ABX9TyPuQgNGt0KZhFx5Eg8vF/EQ",
      "include_colab_link": true
    },
    "kernelspec": {
      "name": "python3",
      "display_name": "Python 3"
    },
    "language_info": {
      "name": "python"
    },
    "accelerator": "GPU"
  },
  "cells": [
    {
      "cell_type": "markdown",
      "metadata": {
        "id": "view-in-github",
        "colab_type": "text"
      },
      "source": [
        "<a href=\"https://colab.research.google.com/github/Dipak22/DeepLearning/blob/master/mnist.ipynb\" target=\"_parent\"><img src=\"https://colab.research.google.com/assets/colab-badge.svg\" alt=\"Open In Colab\"/></a>"
      ]
    },
    {
      "cell_type": "code",
      "execution_count": 2,
      "metadata": {
        "colab": {
          "base_uri": "https://localhost:8080/"
        },
        "id": "PSc35DRrtqXB",
        "outputId": "8dc314ef-3f46-4233-d2aa-d326d424efca"
      },
      "outputs": [
        {
          "output_type": "stream",
          "name": "stdout",
          "text": [
            "\u001b[?25l   \u001b[90m━━━━━━━━━━━━━━━━━━━━━━━━━━━━━━━━━━━━━━━━\u001b[0m \u001b[32m0.0/719.8 kB\u001b[0m \u001b[31m?\u001b[0m eta \u001b[36m-:--:--\u001b[0m\r\u001b[2K   \u001b[91m━━━━━━━━━━━━━━━━━━━━━━━━━━━━━━━━━━━━━━━\u001b[0m\u001b[91m╸\u001b[0m \u001b[32m716.8/719.8 kB\u001b[0m \u001b[31m27.9 MB/s\u001b[0m eta \u001b[36m0:00:01\u001b[0m\r\u001b[2K   \u001b[90m━━━━━━━━━━━━━━━━━━━━━━━━━━━━━━━━━━━━━━━━\u001b[0m \u001b[32m719.8/719.8 kB\u001b[0m \u001b[31m18.5 MB/s\u001b[0m eta \u001b[36m0:00:00\u001b[0m\n",
            "\u001b[?25h\u001b[?25l   \u001b[90m━━━━━━━━━━━━━━━━━━━━━━━━━━━━━━━━━━━━━━━━\u001b[0m \u001b[32m0.0/484.9 kB\u001b[0m \u001b[31m?\u001b[0m eta \u001b[36m-:--:--\u001b[0m\r\u001b[2K   \u001b[90m━━━━━━━━━━━━━━━━━━━━━━━━━━━━━━━━━━━━━━━━\u001b[0m \u001b[32m484.9/484.9 kB\u001b[0m \u001b[31m37.4 MB/s\u001b[0m eta \u001b[36m0:00:00\u001b[0m\n",
            "\u001b[?25h\u001b[?25l   \u001b[90m━━━━━━━━━━━━━━━━━━━━━━━━━━━━━━━━━━━━━━━━\u001b[0m \u001b[32m0.0/116.3 kB\u001b[0m \u001b[31m?\u001b[0m eta \u001b[36m-:--:--\u001b[0m\r\u001b[2K   \u001b[90m━━━━━━━━━━━━━━━━━━━━━━━━━━━━━━━━━━━━━━━━\u001b[0m \u001b[32m116.3/116.3 kB\u001b[0m \u001b[31m12.8 MB/s\u001b[0m eta \u001b[36m0:00:00\u001b[0m\n",
            "\u001b[2K   \u001b[90m━━━━━━━━━━━━━━━━━━━━━━━━━━━━━━━━━━━━━━━━\u001b[0m \u001b[32m143.5/143.5 kB\u001b[0m \u001b[31m14.5 MB/s\u001b[0m eta \u001b[36m0:00:00\u001b[0m\n",
            "\u001b[2K   \u001b[90m━━━━━━━━━━━━━━━━━━━━━━━━━━━━━━━━━━━━━━━━\u001b[0m \u001b[32m363.4/363.4 MB\u001b[0m \u001b[31m4.1 MB/s\u001b[0m eta \u001b[36m0:00:00\u001b[0m\n",
            "\u001b[2K   \u001b[90m━━━━━━━━━━━━━━━━━━━━━━━━━━━━━━━━━━━━━━━━\u001b[0m \u001b[32m13.8/13.8 MB\u001b[0m \u001b[31m113.4 MB/s\u001b[0m eta \u001b[36m0:00:00\u001b[0m\n",
            "\u001b[2K   \u001b[90m━━━━━━━━━━━━━━━━━━━━━━━━━━━━━━━━━━━━━━━━\u001b[0m \u001b[32m24.6/24.6 MB\u001b[0m \u001b[31m93.8 MB/s\u001b[0m eta \u001b[36m0:00:00\u001b[0m\n",
            "\u001b[2K   \u001b[90m━━━━━━━━━━━━━━━━━━━━━━━━━━━━━━━━━━━━━━━━\u001b[0m \u001b[32m883.7/883.7 kB\u001b[0m \u001b[31m56.3 MB/s\u001b[0m eta \u001b[36m0:00:00\u001b[0m\n",
            "\u001b[2K   \u001b[90m━━━━━━━━━━━━━━━━━━━━━━━━━━━━━━━━━━━━━━━━\u001b[0m \u001b[32m664.8/664.8 MB\u001b[0m \u001b[31m1.9 MB/s\u001b[0m eta \u001b[36m0:00:00\u001b[0m\n",
            "\u001b[2K   \u001b[90m━━━━━━━━━━━━━━━━━━━━━━━━━━━━━━━━━━━━━━━━\u001b[0m \u001b[32m211.5/211.5 MB\u001b[0m \u001b[31m5.8 MB/s\u001b[0m eta \u001b[36m0:00:00\u001b[0m\n",
            "\u001b[2K   \u001b[90m━━━━━━━━━━━━━━━━━━━━━━━━━━━━━━━━━━━━━━━━\u001b[0m \u001b[32m56.3/56.3 MB\u001b[0m \u001b[31m12.2 MB/s\u001b[0m eta \u001b[36m0:00:00\u001b[0m\n",
            "\u001b[2K   \u001b[90m━━━━━━━━━━━━━━━━━━━━━━━━━━━━━━━━━━━━━━━━\u001b[0m \u001b[32m127.9/127.9 MB\u001b[0m \u001b[31m8.7 MB/s\u001b[0m eta \u001b[36m0:00:00\u001b[0m\n",
            "\u001b[2K   \u001b[90m━━━━━━━━━━━━━━━━━━━━━━━━━━━━━━━━━━━━━━━━\u001b[0m \u001b[32m207.5/207.5 MB\u001b[0m \u001b[31m4.9 MB/s\u001b[0m eta \u001b[36m0:00:00\u001b[0m\n",
            "\u001b[2K   \u001b[90m━━━━━━━━━━━━━━━━━━━━━━━━━━━━━━━━━━━━━━━━\u001b[0m \u001b[32m21.1/21.1 MB\u001b[0m \u001b[31m91.1 MB/s\u001b[0m eta \u001b[36m0:00:00\u001b[0m\n",
            "\u001b[2K   \u001b[90m━━━━━━━━━━━━━━━━━━━━━━━━━━━━━━━━━━━━━━━━\u001b[0m \u001b[32m194.8/194.8 kB\u001b[0m \u001b[31m19.1 MB/s\u001b[0m eta \u001b[36m0:00:00\u001b[0m\n",
            "\u001b[2K   \u001b[90m━━━━━━━━━━━━━━━━━━━━━━━━━━━━━━━━━━━━━━━━\u001b[0m \u001b[32m1.6/1.6 MB\u001b[0m \u001b[31m80.5 MB/s\u001b[0m eta \u001b[36m0:00:00\u001b[0m\n",
            "\u001b[?25h"
          ]
        }
      ],
      "source": [
        "pip install -Uqq fastbook"
      ]
    },
    {
      "cell_type": "code",
      "source": [
        "from fastai.vision.all import *\n",
        "from fastbook import *\n",
        "matplotlib.rc('image',cmap='Greys')"
      ],
      "metadata": {
        "id": "ZunKQguxOq02"
      },
      "execution_count": 3,
      "outputs": []
    },
    {
      "cell_type": "code",
      "source": [
        "path = untar_data(URLs.MNIST_SAMPLE)\n",
        "Path.BASE_PATH = path"
      ],
      "metadata": {
        "colab": {
          "base_uri": "https://localhost:8080/",
          "height": 37
        },
        "id": "qHi25ADWPbug",
        "outputId": "af8c67a9-728b-4c7d-8f6c-22f33ef3c04d"
      },
      "execution_count": 4,
      "outputs": [
        {
          "output_type": "display_data",
          "data": {
            "text/plain": [
              "<IPython.core.display.HTML object>"
            ],
            "text/html": [
              "\n",
              "<style>\n",
              "    /* Turns off some styling */\n",
              "    progress {\n",
              "        /* gets rid of default border in Firefox and Opera. */\n",
              "        border: none;\n",
              "        /* Needs to be in here for Safari polyfill so background images work as expected. */\n",
              "        background-size: auto;\n",
              "    }\n",
              "    progress:not([value]), progress:not([value])::-webkit-progress-bar {\n",
              "        background: repeating-linear-gradient(45deg, #7e7e7e, #7e7e7e 10px, #5c5c5c 10px, #5c5c5c 20px);\n",
              "    }\n",
              "    .progress-bar-interrupted, .progress-bar-interrupted::-webkit-progress-bar {\n",
              "        background: #F44336;\n",
              "    }\n",
              "</style>\n"
            ]
          },
          "metadata": {}
        },
        {
          "output_type": "display_data",
          "data": {
            "text/plain": [
              "<IPython.core.display.HTML object>"
            ],
            "text/html": [
              "\n",
              "    <div>\n",
              "      <progress value='3219456' class='' max='3214948' style='width:300px; height:20px; vertical-align: middle;'></progress>\n",
              "      100.14% [3219456/3214948 00:00&lt;00:00]\n",
              "    </div>\n",
              "    "
            ]
          },
          "metadata": {}
        }
      ]
    },
    {
      "cell_type": "code",
      "source": [
        "path.ls()"
      ],
      "metadata": {
        "colab": {
          "base_uri": "https://localhost:8080/"
        },
        "id": "NzGaA_1SPlk9",
        "outputId": "6c3d3e14-084a-4eed-dd94-cfddcb6ca63c"
      },
      "execution_count": 5,
      "outputs": [
        {
          "output_type": "execute_result",
          "data": {
            "text/plain": [
              "(#3) [Path('train'),Path('valid'),Path('labels.csv')]"
            ]
          },
          "metadata": {},
          "execution_count": 5
        }
      ]
    },
    {
      "cell_type": "code",
      "source": [
        "threes = (path/'train'/'3').ls().sorted()\n",
        "sevens = (path/'train'/'7').ls().sorted()\n",
        "threes"
      ],
      "metadata": {
        "colab": {
          "base_uri": "https://localhost:8080/"
        },
        "id": "AMNZvJTHQCoQ",
        "outputId": "3feec132-ec1f-4c16-e830-f3c2d6bdb074"
      },
      "execution_count": 6,
      "outputs": [
        {
          "output_type": "execute_result",
          "data": {
            "text/plain": [
              "(#6131) [Path('train/3/10.png'),Path('train/3/10000.png'),Path('train/3/10011.png'),Path('train/3/10031.png'),Path('train/3/10034.png'),Path('train/3/10042.png'),Path('train/3/10052.png'),Path('train/3/1007.png'),Path('train/3/10074.png'),Path('train/3/10091.png'),Path('train/3/10093.png'),Path('train/3/10097.png'),Path('train/3/10099.png'),Path('train/3/10116.png'),Path('train/3/10125.png'),Path('train/3/10137.png'),Path('train/3/10141.png'),Path('train/3/10144.png'),Path('train/3/10155.png'),Path('train/3/10161.png')...]"
            ]
          },
          "metadata": {},
          "execution_count": 6
        }
      ]
    },
    {
      "cell_type": "code",
      "source": [
        "#print a smaple image\n",
        "im3_path = threes[1]\n",
        "im3 = Image.open(im3_path)\n",
        "im3"
      ],
      "metadata": {
        "colab": {
          "base_uri": "https://localhost:8080/",
          "height": 45
        },
        "id": "86XU2EIxQQFK",
        "outputId": "20e73a5e-4610-4a9a-8b29-b471d5e919a5"
      },
      "execution_count": 7,
      "outputs": [
        {
          "output_type": "execute_result",
          "data": {
            "text/plain": [
              "<PIL.PngImagePlugin.PngImageFile image mode=L size=28x28>"
            ],
            "image/png": "[encoded data removed]",
            "image/jpeg": "[encoded data removed]"
          },
          "metadata": {},
          "execution_count": 7
        }
      ]
    },
    {
      "cell_type": "code",
      "source": [
        "#create a tensor from image\n",
        "im3_t = tensor(im3)\n",
        "df = pd.DataFrame(im3_t[4:15,4:22])\n",
        "df.style.set_properties(**{'font-size':'6pt'}).background_gradient(\"Greys\")"
      ],
      "metadata": {
        "colab": {
          "base_uri": "https://localhost:8080/",
          "height": 394
        },
        "id": "CenTXERiQcDn",
        "outputId": "5a888539-139d-4918-9800-747bacf674f7"
      },
      "execution_count": 8,
      "outputs": [
        {
          "output_type": "execute_result",
          "data": {
            "text/plain": [
              "<pandas.io.formats.style.Styler at 0x7d71679e3b90>"
            ],
            "text/html": [
              "<style type=\"text/css\">\n",
              "#T_2aa4c_row0_col0, #T_2aa4c_row0_col1, #T_2aa4c_row0_col2, #T_2aa4c_row0_col3, #T_2aa4c_row0_col4, #T_2aa4c_row0_col5, #T_2aa4c_row0_col6, #T_2aa4c_row0_col7, #T_2aa4c_row0_col8, #T_2aa4c_row0_col9, #T_2aa4c_row0_col10, #T_2aa4c_row0_col11, #T_2aa4c_row0_col12, #T_2aa4c_row0_col13, #T_2aa4c_row0_col14, #T_2aa4c_row0_col15, #T_2aa4c_row0_col16, #T_2aa4c_row0_col17, #T_2aa4c_row1_col0, #T_2aa4c_row1_col1, #T_2aa4c_row1_col2, #T_2aa4c_row1_col3, #T_2aa4c_row1_col4, #T_2aa4c_row1_col15, #T_2aa4c_row1_col16, #T_2aa4c_row1_col17, #T_2aa4c_row2_col0, #T_2aa4c_row2_col1, #T_2aa4c_row2_col2, #T_2aa4c_row2_col15, #T_2aa4c_row2_col16, #T_2aa4c_row2_col17, #T_2aa4c_row3_col0, #T_2aa4c_row3_col15, #T_2aa4c_row3_col16, #T_2aa4c_row3_col17, #T_2aa4c_row4_col0, #T_2aa4c_row4_col6, #T_2aa4c_row4_col7, #T_2aa4c_row4_col8, #T_2aa4c_row4_col9, #T_2aa4c_row4_col10, #T_2aa4c_row4_col15, #T_2aa4c_row4_col16, #T_2aa4c_row4_col17, #T_2aa4c_row5_col0, #T_2aa4c_row5_col5, #T_2aa4c_row5_col6, #T_2aa4c_row5_col7, #T_2aa4c_row5_col8, #T_2aa4c_row5_col9, #T_2aa4c_row5_col15, #T_2aa4c_row5_col16, #T_2aa4c_row5_col17, #T_2aa4c_row6_col0, #T_2aa4c_row6_col1, #T_2aa4c_row6_col2, #T_2aa4c_row6_col3, #T_2aa4c_row6_col4, #T_2aa4c_row6_col5, #T_2aa4c_row6_col6, #T_2aa4c_row6_col7, #T_2aa4c_row6_col8, #T_2aa4c_row6_col9, #T_2aa4c_row6_col14, #T_2aa4c_row6_col15, #T_2aa4c_row6_col16, #T_2aa4c_row6_col17, #T_2aa4c_row7_col0, #T_2aa4c_row7_col1, #T_2aa4c_row7_col2, #T_2aa4c_row7_col3, #T_2aa4c_row7_col4, #T_2aa4c_row7_col5, #T_2aa4c_row7_col6, #T_2aa4c_row7_col13, #T_2aa4c_row7_col14, #T_2aa4c_row7_col15, #T_2aa4c_row7_col16, #T_2aa4c_row7_col17, #T_2aa4c_row8_col0, #T_2aa4c_row8_col1, #T_2aa4c_row8_col2, #T_2aa4c_row8_col3, #T_2aa4c_row8_col4, #T_2aa4c_row8_col13, #T_2aa4c_row8_col14, #T_2aa4c_row8_col15, #T_2aa4c_row8_col16, #T_2aa4c_row8_col17, #T_2aa4c_row9_col0, #T_2aa4c_row9_col1, #T_2aa4c_row9_col2, #T_2aa4c_row9_col3, #T_2aa4c_row9_col4, #T_2aa4c_row9_col16, #T_2aa4c_row9_col17, #T_2aa4c_row10_col0, #T_2aa4c_row10_col1, #T_2aa4c_row10_col2, #T_2aa4c_row10_col3, #T_2aa4c_row10_col4, #T_2aa4c_row10_col5, #T_2aa4c_row10_col6, #T_2aa4c_row10_col17 {\n",
              "  font-size: 6pt;\n",
              "  background-color: #ffffff;\n",
              "  color: #000000;\n",
              "}\n",
              "#T_2aa4c_row1_col5 {\n",
              "  font-size: 6pt;\n",
              "  background-color: #efefef;\n",
              "  color: #000000;\n",
              "}\n",
              "#T_2aa4c_row1_col6, #T_2aa4c_row1_col13 {\n",
              "  font-size: 6pt;\n",
              "  background-color: #7c7c7c;\n",
              "  color: #f1f1f1;\n",
              "}\n",
              "#T_2aa4c_row1_col7 {\n",
              "  font-size: 6pt;\n",
              "  background-color: #4a4a4a;\n",
              "  color: #f1f1f1;\n",
              "}\n",
              "#T_2aa4c_row1_col8, #T_2aa4c_row1_col9, #T_2aa4c_row1_col10, #T_2aa4c_row2_col5, #T_2aa4c_row2_col6, #T_2aa4c_row2_col7, #T_2aa4c_row2_col11, #T_2aa4c_row2_col12, #T_2aa4c_row2_col13, #T_2aa4c_row3_col4, #T_2aa4c_row3_col12, #T_2aa4c_row3_col13, #T_2aa4c_row4_col1, #T_2aa4c_row4_col2, #T_2aa4c_row4_col3, #T_2aa4c_row4_col12, #T_2aa4c_row4_col13, #T_2aa4c_row5_col12, #T_2aa4c_row6_col11, #T_2aa4c_row9_col11, #T_2aa4c_row10_col11, #T_2aa4c_row10_col12, #T_2aa4c_row10_col13, #T_2aa4c_row10_col14, #T_2aa4c_row10_col15, #T_2aa4c_row10_col16 {\n",
              "  font-size: 6pt;\n",
              "  background-color: #000000;\n",
              "  color: #f1f1f1;\n",
              "}\n",
              "#T_2aa4c_row1_col11 {\n",
              "  font-size: 6pt;\n",
              "  background-color: #606060;\n",
              "  color: #f1f1f1;\n",
              "}\n",
              "#T_2aa4c_row1_col12 {\n",
              "  font-size: 6pt;\n",
              "  background-color: #4d4d4d;\n",
              "  color: #f1f1f1;\n",
              "}\n",
              "#T_2aa4c_row1_col14 {\n",
              "  font-size: 6pt;\n",
              "  background-color: #bbbbbb;\n",
              "  color: #000000;\n",
              "}\n",
              "#T_2aa4c_row2_col3 {\n",
              "  font-size: 6pt;\n",
              "  background-color: #e4e4e4;\n",
              "  color: #000000;\n",
              "}\n",
              "#T_2aa4c_row2_col4, #T_2aa4c_row8_col6 {\n",
              "  font-size: 6pt;\n",
              "  background-color: #6b6b6b;\n",
              "  color: #f1f1f1;\n",
              "}\n",
              "#T_2aa4c_row2_col8, #T_2aa4c_row2_col14, #T_2aa4c_row3_col14 {\n",
              "  font-size: 6pt;\n",
              "  background-color: #171717;\n",
              "  color: #f1f1f1;\n",
              "}\n",
              "#T_2aa4c_row2_col9, #T_2aa4c_row3_col11 {\n",
              "  font-size: 6pt;\n",
              "  background-color: #4b4b4b;\n",
              "  color: #f1f1f1;\n",
              "}\n",
              "#T_2aa4c_row2_col10, #T_2aa4c_row7_col10, #T_2aa4c_row8_col8, #T_2aa4c_row8_col10, #T_2aa4c_row9_col8, #T_2aa4c_row9_col10 {\n",
              "  font-size: 6pt;\n",
              "  background-color: #010101;\n",
              "  color: #f1f1f1;\n",
              "}\n",
              "#T_2aa4c_row3_col1 {\n",
              "  font-size: 6pt;\n",
              "  background-color: #272727;\n",
              "  color: #f1f1f1;\n",
              "}\n",
              "#T_2aa4c_row3_col2 {\n",
              "  font-size: 6pt;\n",
              "  background-color: #0a0a0a;\n",
              "  color: #f1f1f1;\n",
              "}\n",
              "#T_2aa4c_row3_col3 {\n",
              "  font-size: 6pt;\n",
              "  background-color: #050505;\n",
              "  color: #f1f1f1;\n",
              "}\n",
              "#T_2aa4c_row3_col5 {\n",
              "  font-size: 6pt;\n",
              "  background-color: #333333;\n",
              "  color: #f1f1f1;\n",
              "}\n",
              "#T_2aa4c_row3_col6 {\n",
              "  font-size: 6pt;\n",
              "  background-color: #e6e6e6;\n",
              "  color: #000000;\n",
              "}\n",
              "#T_2aa4c_row3_col7, #T_2aa4c_row3_col10 {\n",
              "  font-size: 6pt;\n",
              "  background-color: #fafafa;\n",
              "  color: #000000;\n",
              "}\n",
              "#T_2aa4c_row3_col8 {\n",
              "  font-size: 6pt;\n",
              "  background-color: #fbfbfb;\n",
              "  color: #000000;\n",
              "}\n",
              "#T_2aa4c_row3_col9 {\n",
              "  font-size: 6pt;\n",
              "  background-color: #fdfdfd;\n",
              "  color: #000000;\n",
              "}\n",
              "#T_2aa4c_row4_col4 {\n",
              "  font-size: 6pt;\n",
              "  background-color: #1b1b1b;\n",
              "  color: #f1f1f1;\n",
              "}\n",
              "#T_2aa4c_row4_col5 {\n",
              "  font-size: 6pt;\n",
              "  background-color: #e0e0e0;\n",
              "  color: #000000;\n",
              "}\n",
              "#T_2aa4c_row4_col11 {\n",
              "  font-size: 6pt;\n",
              "  background-color: #4e4e4e;\n",
              "  color: #f1f1f1;\n",
              "}\n",
              "#T_2aa4c_row4_col14 {\n",
              "  font-size: 6pt;\n",
              "  background-color: #767676;\n",
              "  color: #f1f1f1;\n",
              "}\n",
              "#T_2aa4c_row5_col1 {\n",
              "  font-size: 6pt;\n",
              "  background-color: #fcfcfc;\n",
              "  color: #000000;\n",
              "}\n",
              "#T_2aa4c_row5_col2, #T_2aa4c_row5_col3 {\n",
              "  font-size: 6pt;\n",
              "  background-color: #f6f6f6;\n",
              "  color: #000000;\n",
              "}\n",
              "#T_2aa4c_row5_col4, #T_2aa4c_row7_col7 {\n",
              "  font-size: 6pt;\n",
              "  background-color: #f8f8f8;\n",
              "  color: #000000;\n",
              "}\n",
              "#T_2aa4c_row5_col10, #T_2aa4c_row10_col7 {\n",
              "  font-size: 6pt;\n",
              "  background-color: #e8e8e8;\n",
              "  color: #000000;\n",
              "}\n",
              "#T_2aa4c_row5_col11 {\n",
              "  font-size: 6pt;\n",
              "  background-color: #222222;\n",
              "  color: #f1f1f1;\n",
              "}\n",
              "#T_2aa4c_row5_col13, #T_2aa4c_row6_col12 {\n",
              "  font-size: 6pt;\n",
              "  background-color: #090909;\n",
              "  color: #f1f1f1;\n",
              "}\n",
              "#T_2aa4c_row5_col14 {\n",
              "  font-size: 6pt;\n",
              "  background-color: #d0d0d0;\n",
              "  color: #000000;\n",
              "}\n",
              "#T_2aa4c_row6_col10, #T_2aa4c_row7_col11, #T_2aa4c_row9_col6 {\n",
              "  font-size: 6pt;\n",
              "  background-color: #060606;\n",
              "  color: #f1f1f1;\n",
              "}\n",
              "#T_2aa4c_row6_col13 {\n",
              "  font-size: 6pt;\n",
              "  background-color: #979797;\n",
              "  color: #f1f1f1;\n",
              "}\n",
              "#T_2aa4c_row7_col8 {\n",
              "  font-size: 6pt;\n",
              "  background-color: #b6b6b6;\n",
              "  color: #000000;\n",
              "}\n",
              "#T_2aa4c_row7_col9 {\n",
              "  font-size: 6pt;\n",
              "  background-color: #252525;\n",
              "  color: #f1f1f1;\n",
              "}\n",
              "#T_2aa4c_row7_col12 {\n",
              "  font-size: 6pt;\n",
              "  background-color: #999999;\n",
              "  color: #f1f1f1;\n",
              "}\n",
              "#T_2aa4c_row8_col5 {\n",
              "  font-size: 6pt;\n",
              "  background-color: #f9f9f9;\n",
              "  color: #000000;\n",
              "}\n",
              "#T_2aa4c_row8_col7 {\n",
              "  font-size: 6pt;\n",
              "  background-color: #101010;\n",
              "  color: #f1f1f1;\n",
              "}\n",
              "#T_2aa4c_row8_col9, #T_2aa4c_row9_col9 {\n",
              "  font-size: 6pt;\n",
              "  background-color: #020202;\n",
              "  color: #f1f1f1;\n",
              "}\n",
              "#T_2aa4c_row8_col11 {\n",
              "  font-size: 6pt;\n",
              "  background-color: #545454;\n",
              "  color: #f1f1f1;\n",
              "}\n",
              "#T_2aa4c_row8_col12 {\n",
              "  font-size: 6pt;\n",
              "  background-color: #f1f1f1;\n",
              "  color: #000000;\n",
              "}\n",
              "#T_2aa4c_row9_col5 {\n",
              "  font-size: 6pt;\n",
              "  background-color: #f7f7f7;\n",
              "  color: #000000;\n",
              "}\n",
              "#T_2aa4c_row9_col7 {\n",
              "  font-size: 6pt;\n",
              "  background-color: #030303;\n",
              "  color: #f1f1f1;\n",
              "}\n",
              "#T_2aa4c_row9_col12 {\n",
              "  font-size: 6pt;\n",
              "  background-color: #181818;\n",
              "  color: #f1f1f1;\n",
              "}\n",
              "#T_2aa4c_row9_col13 {\n",
              "  font-size: 6pt;\n",
              "  background-color: #303030;\n",
              "  color: #f1f1f1;\n",
              "}\n",
              "#T_2aa4c_row9_col14 {\n",
              "  font-size: 6pt;\n",
              "  background-color: #a9a9a9;\n",
              "  color: #f1f1f1;\n",
              "}\n",
              "#T_2aa4c_row9_col15 {\n",
              "  font-size: 6pt;\n",
              "  background-color: #fefefe;\n",
              "  color: #000000;\n",
              "}\n",
              "#T_2aa4c_row10_col8, #T_2aa4c_row10_col9 {\n",
              "  font-size: 6pt;\n",
              "  background-color: #bababa;\n",
              "  color: #000000;\n",
              "}\n",
              "#T_2aa4c_row10_col10 {\n",
              "  font-size: 6pt;\n",
              "  background-color: #393939;\n",
              "  color: #f1f1f1;\n",
              "}\n",
              "</style>\n",
              "<table id=\"T_2aa4c\" class=\"dataframe\">\n",
              "  <thead>\n",
              "    <tr>\n",
              "      <th class=\"blank level0\" >&nbsp;</th>\n",
              "      <th id=\"T_2aa4c_level0_col0\" class=\"col_heading level0 col0\" >0</th>\n",
              "      <th id=\"T_2aa4c_level0_col1\" class=\"col_heading level0 col1\" >1</th>\n",
              "      <th id=\"T_2aa4c_level0_col2\" class=\"col_heading level0 col2\" >2</th>\n",
              "      <th id=\"T_2aa4c_level0_col3\" class=\"col_heading level0 col3\" >3</th>\n",
              "      <th id=\"T_2aa4c_level0_col4\" class=\"col_heading level0 col4\" >4</th>\n",
              "      <th id=\"T_2aa4c_level0_col5\" class=\"col_heading level0 col5\" >5</th>\n",
              "      <th id=\"T_2aa4c_level0_col6\" class=\"col_heading level0 col6\" >6</th>\n",
              "      <th id=\"T_2aa4c_level0_col7\" class=\"col_heading level0 col7\" >7</th>\n",
              "      <th id=\"T_2aa4c_level0_col8\" class=\"col_heading level0 col8\" >8</th>\n",
              "      <th id=\"T_2aa4c_level0_col9\" class=\"col_heading level0 col9\" >9</th>\n",
              "      <th id=\"T_2aa4c_level0_col10\" class=\"col_heading level0 col10\" >10</th>\n",
              "      <th id=\"T_2aa4c_level0_col11\" class=\"col_heading level0 col11\" >11</th>\n",
              "      <th id=\"T_2aa4c_level0_col12\" class=\"col_heading level0 col12\" >12</th>\n",
              "      <th id=\"T_2aa4c_level0_col13\" class=\"col_heading level0 col13\" >13</th>\n",
              "      <th id=\"T_2aa4c_level0_col14\" class=\"col_heading level0 col14\" >14</th>\n",
              "      <th id=\"T_2aa4c_level0_col15\" class=\"col_heading level0 col15\" >15</th>\n",
              "      <th id=\"T_2aa4c_level0_col16\" class=\"col_heading level0 col16\" >16</th>\n",
              "      <th id=\"T_2aa4c_level0_col17\" class=\"col_heading level0 col17\" >17</th>\n",
              "    </tr>\n",
              "  </thead>\n",
              "  <tbody>\n",
              "    <tr>\n",
              "      <th id=\"T_2aa4c_level0_row0\" class=\"row_heading level0 row0\" >0</th>\n",
              "      <td id=\"T_2aa4c_row0_col0\" class=\"data row0 col0\" >0</td>\n",
              "      <td id=\"T_2aa4c_row0_col1\" class=\"data row0 col1\" >0</td>\n",
              "      <td id=\"T_2aa4c_row0_col2\" class=\"data row0 col2\" >0</td>\n",
              "      <td id=\"T_2aa4c_row0_col3\" class=\"data row0 col3\" >0</td>\n",
              "      <td id=\"T_2aa4c_row0_col4\" class=\"data row0 col4\" >0</td>\n",
              "      <td id=\"T_2aa4c_row0_col5\" class=\"data row0 col5\" >0</td>\n",
              "      <td id=\"T_2aa4c_row0_col6\" class=\"data row0 col6\" >0</td>\n",
              "      <td id=\"T_2aa4c_row0_col7\" class=\"data row0 col7\" >0</td>\n",
              "      <td id=\"T_2aa4c_row0_col8\" class=\"data row0 col8\" >0</td>\n",
              "      <td id=\"T_2aa4c_row0_col9\" class=\"data row0 col9\" >0</td>\n",
              "      <td id=\"T_2aa4c_row0_col10\" class=\"data row0 col10\" >0</td>\n",
              "      <td id=\"T_2aa4c_row0_col11\" class=\"data row0 col11\" >0</td>\n",
              "      <td id=\"T_2aa4c_row0_col12\" class=\"data row0 col12\" >0</td>\n",
              "      <td id=\"T_2aa4c_row0_col13\" class=\"data row0 col13\" >0</td>\n",
              "      <td id=\"T_2aa4c_row0_col14\" class=\"data row0 col14\" >0</td>\n",
              "      <td id=\"T_2aa4c_row0_col15\" class=\"data row0 col15\" >0</td>\n",
              "      <td id=\"T_2aa4c_row0_col16\" class=\"data row0 col16\" >0</td>\n",
              "      <td id=\"T_2aa4c_row0_col17\" class=\"data row0 col17\" >0</td>\n",
              "    </tr>\n",
              "    <tr>\n",
              "      <th id=\"T_2aa4c_level0_row1\" class=\"row_heading level0 row1\" >1</th>\n",
              "      <td id=\"T_2aa4c_row1_col0\" class=\"data row1 col0\" >0</td>\n",
              "      <td id=\"T_2aa4c_row1_col1\" class=\"data row1 col1\" >0</td>\n",
              "      <td id=\"T_2aa4c_row1_col2\" class=\"data row1 col2\" >0</td>\n",
              "      <td id=\"T_2aa4c_row1_col3\" class=\"data row1 col3\" >0</td>\n",
              "      <td id=\"T_2aa4c_row1_col4\" class=\"data row1 col4\" >0</td>\n",
              "      <td id=\"T_2aa4c_row1_col5\" class=\"data row1 col5\" >29</td>\n",
              "      <td id=\"T_2aa4c_row1_col6\" class=\"data row1 col6\" >150</td>\n",
              "      <td id=\"T_2aa4c_row1_col7\" class=\"data row1 col7\" >195</td>\n",
              "      <td id=\"T_2aa4c_row1_col8\" class=\"data row1 col8\" >254</td>\n",
              "      <td id=\"T_2aa4c_row1_col9\" class=\"data row1 col9\" >255</td>\n",
              "      <td id=\"T_2aa4c_row1_col10\" class=\"data row1 col10\" >254</td>\n",
              "      <td id=\"T_2aa4c_row1_col11\" class=\"data row1 col11\" >176</td>\n",
              "      <td id=\"T_2aa4c_row1_col12\" class=\"data row1 col12\" >193</td>\n",
              "      <td id=\"T_2aa4c_row1_col13\" class=\"data row1 col13\" >150</td>\n",
              "      <td id=\"T_2aa4c_row1_col14\" class=\"data row1 col14\" >96</td>\n",
              "      <td id=\"T_2aa4c_row1_col15\" class=\"data row1 col15\" >0</td>\n",
              "      <td id=\"T_2aa4c_row1_col16\" class=\"data row1 col16\" >0</td>\n",
              "      <td id=\"T_2aa4c_row1_col17\" class=\"data row1 col17\" >0</td>\n",
              "    </tr>\n",
              "    <tr>\n",
              "      <th id=\"T_2aa4c_level0_row2\" class=\"row_heading level0 row2\" >2</th>\n",
              "      <td id=\"T_2aa4c_row2_col0\" class=\"data row2 col0\" >0</td>\n",
              "      <td id=\"T_2aa4c_row2_col1\" class=\"data row2 col1\" >0</td>\n",
              "      <td id=\"T_2aa4c_row2_col2\" class=\"data row2 col2\" >0</td>\n",
              "      <td id=\"T_2aa4c_row2_col3\" class=\"data row2 col3\" >48</td>\n",
              "      <td id=\"T_2aa4c_row2_col4\" class=\"data row2 col4\" >166</td>\n",
              "      <td id=\"T_2aa4c_row2_col5\" class=\"data row2 col5\" >224</td>\n",
              "      <td id=\"T_2aa4c_row2_col6\" class=\"data row2 col6\" >253</td>\n",
              "      <td id=\"T_2aa4c_row2_col7\" class=\"data row2 col7\" >253</td>\n",
              "      <td id=\"T_2aa4c_row2_col8\" class=\"data row2 col8\" >234</td>\n",
              "      <td id=\"T_2aa4c_row2_col9\" class=\"data row2 col9\" >196</td>\n",
              "      <td id=\"T_2aa4c_row2_col10\" class=\"data row2 col10\" >253</td>\n",
              "      <td id=\"T_2aa4c_row2_col11\" class=\"data row2 col11\" >253</td>\n",
              "      <td id=\"T_2aa4c_row2_col12\" class=\"data row2 col12\" >253</td>\n",
              "      <td id=\"T_2aa4c_row2_col13\" class=\"data row2 col13\" >253</td>\n",
              "      <td id=\"T_2aa4c_row2_col14\" class=\"data row2 col14\" >233</td>\n",
              "      <td id=\"T_2aa4c_row2_col15\" class=\"data row2 col15\" >0</td>\n",
              "      <td id=\"T_2aa4c_row2_col16\" class=\"data row2 col16\" >0</td>\n",
              "      <td id=\"T_2aa4c_row2_col17\" class=\"data row2 col17\" >0</td>\n",
              "    </tr>\n",
              "    <tr>\n",
              "      <th id=\"T_2aa4c_level0_row3\" class=\"row_heading level0 row3\" >3</th>\n",
              "      <td id=\"T_2aa4c_row3_col0\" class=\"data row3 col0\" >0</td>\n",
              "      <td id=\"T_2aa4c_row3_col1\" class=\"data row3 col1\" >93</td>\n",
              "      <td id=\"T_2aa4c_row3_col2\" class=\"data row3 col2\" >244</td>\n",
              "      <td id=\"T_2aa4c_row3_col3\" class=\"data row3 col3\" >249</td>\n",
              "      <td id=\"T_2aa4c_row3_col4\" class=\"data row3 col4\" >253</td>\n",
              "      <td id=\"T_2aa4c_row3_col5\" class=\"data row3 col5\" >187</td>\n",
              "      <td id=\"T_2aa4c_row3_col6\" class=\"data row3 col6\" >46</td>\n",
              "      <td id=\"T_2aa4c_row3_col7\" class=\"data row3 col7\" >10</td>\n",
              "      <td id=\"T_2aa4c_row3_col8\" class=\"data row3 col8\" >8</td>\n",
              "      <td id=\"T_2aa4c_row3_col9\" class=\"data row3 col9\" >4</td>\n",
              "      <td id=\"T_2aa4c_row3_col10\" class=\"data row3 col10\" >10</td>\n",
              "      <td id=\"T_2aa4c_row3_col11\" class=\"data row3 col11\" >194</td>\n",
              "      <td id=\"T_2aa4c_row3_col12\" class=\"data row3 col12\" >253</td>\n",
              "      <td id=\"T_2aa4c_row3_col13\" class=\"data row3 col13\" >253</td>\n",
              "      <td id=\"T_2aa4c_row3_col14\" class=\"data row3 col14\" >233</td>\n",
              "      <td id=\"T_2aa4c_row3_col15\" class=\"data row3 col15\" >0</td>\n",
              "      <td id=\"T_2aa4c_row3_col16\" class=\"data row3 col16\" >0</td>\n",
              "      <td id=\"T_2aa4c_row3_col17\" class=\"data row3 col17\" >0</td>\n",
              "    </tr>\n",
              "    <tr>\n",
              "      <th id=\"T_2aa4c_level0_row4\" class=\"row_heading level0 row4\" >4</th>\n",
              "      <td id=\"T_2aa4c_row4_col0\" class=\"data row4 col0\" >0</td>\n",
              "      <td id=\"T_2aa4c_row4_col1\" class=\"data row4 col1\" >107</td>\n",
              "      <td id=\"T_2aa4c_row4_col2\" class=\"data row4 col2\" >253</td>\n",
              "      <td id=\"T_2aa4c_row4_col3\" class=\"data row4 col3\" >253</td>\n",
              "      <td id=\"T_2aa4c_row4_col4\" class=\"data row4 col4\" >230</td>\n",
              "      <td id=\"T_2aa4c_row4_col5\" class=\"data row4 col5\" >48</td>\n",
              "      <td id=\"T_2aa4c_row4_col6\" class=\"data row4 col6\" >0</td>\n",
              "      <td id=\"T_2aa4c_row4_col7\" class=\"data row4 col7\" >0</td>\n",
              "      <td id=\"T_2aa4c_row4_col8\" class=\"data row4 col8\" >0</td>\n",
              "      <td id=\"T_2aa4c_row4_col9\" class=\"data row4 col9\" >0</td>\n",
              "      <td id=\"T_2aa4c_row4_col10\" class=\"data row4 col10\" >0</td>\n",
              "      <td id=\"T_2aa4c_row4_col11\" class=\"data row4 col11\" >192</td>\n",
              "      <td id=\"T_2aa4c_row4_col12\" class=\"data row4 col12\" >253</td>\n",
              "      <td id=\"T_2aa4c_row4_col13\" class=\"data row4 col13\" >253</td>\n",
              "      <td id=\"T_2aa4c_row4_col14\" class=\"data row4 col14\" >156</td>\n",
              "      <td id=\"T_2aa4c_row4_col15\" class=\"data row4 col15\" >0</td>\n",
              "      <td id=\"T_2aa4c_row4_col16\" class=\"data row4 col16\" >0</td>\n",
              "      <td id=\"T_2aa4c_row4_col17\" class=\"data row4 col17\" >0</td>\n",
              "    </tr>\n",
              "    <tr>\n",
              "      <th id=\"T_2aa4c_level0_row5\" class=\"row_heading level0 row5\" >5</th>\n",
              "      <td id=\"T_2aa4c_row5_col0\" class=\"data row5 col0\" >0</td>\n",
              "      <td id=\"T_2aa4c_row5_col1\" class=\"data row5 col1\" >3</td>\n",
              "      <td id=\"T_2aa4c_row5_col2\" class=\"data row5 col2\" >20</td>\n",
              "      <td id=\"T_2aa4c_row5_col3\" class=\"data row5 col3\" >20</td>\n",
              "      <td id=\"T_2aa4c_row5_col4\" class=\"data row5 col4\" >15</td>\n",
              "      <td id=\"T_2aa4c_row5_col5\" class=\"data row5 col5\" >0</td>\n",
              "      <td id=\"T_2aa4c_row5_col6\" class=\"data row5 col6\" >0</td>\n",
              "      <td id=\"T_2aa4c_row5_col7\" class=\"data row5 col7\" >0</td>\n",
              "      <td id=\"T_2aa4c_row5_col8\" class=\"data row5 col8\" >0</td>\n",
              "      <td id=\"T_2aa4c_row5_col9\" class=\"data row5 col9\" >0</td>\n",
              "      <td id=\"T_2aa4c_row5_col10\" class=\"data row5 col10\" >43</td>\n",
              "      <td id=\"T_2aa4c_row5_col11\" class=\"data row5 col11\" >224</td>\n",
              "      <td id=\"T_2aa4c_row5_col12\" class=\"data row5 col12\" >253</td>\n",
              "      <td id=\"T_2aa4c_row5_col13\" class=\"data row5 col13\" >245</td>\n",
              "      <td id=\"T_2aa4c_row5_col14\" class=\"data row5 col14\" >74</td>\n",
              "      <td id=\"T_2aa4c_row5_col15\" class=\"data row5 col15\" >0</td>\n",
              "      <td id=\"T_2aa4c_row5_col16\" class=\"data row5 col16\" >0</td>\n",
              "      <td id=\"T_2aa4c_row5_col17\" class=\"data row5 col17\" >0</td>\n",
              "    </tr>\n",
              "    <tr>\n",
              "      <th id=\"T_2aa4c_level0_row6\" class=\"row_heading level0 row6\" >6</th>\n",
              "      <td id=\"T_2aa4c_row6_col0\" class=\"data row6 col0\" >0</td>\n",
              "      <td id=\"T_2aa4c_row6_col1\" class=\"data row6 col1\" >0</td>\n",
              "      <td id=\"T_2aa4c_row6_col2\" class=\"data row6 col2\" >0</td>\n",
              "      <td id=\"T_2aa4c_row6_col3\" class=\"data row6 col3\" >0</td>\n",
              "      <td id=\"T_2aa4c_row6_col4\" class=\"data row6 col4\" >0</td>\n",
              "      <td id=\"T_2aa4c_row6_col5\" class=\"data row6 col5\" >0</td>\n",
              "      <td id=\"T_2aa4c_row6_col6\" class=\"data row6 col6\" >0</td>\n",
              "      <td id=\"T_2aa4c_row6_col7\" class=\"data row6 col7\" >0</td>\n",
              "      <td id=\"T_2aa4c_row6_col8\" class=\"data row6 col8\" >0</td>\n",
              "      <td id=\"T_2aa4c_row6_col9\" class=\"data row6 col9\" >0</td>\n",
              "      <td id=\"T_2aa4c_row6_col10\" class=\"data row6 col10\" >249</td>\n",
              "      <td id=\"T_2aa4c_row6_col11\" class=\"data row6 col11\" >253</td>\n",
              "      <td id=\"T_2aa4c_row6_col12\" class=\"data row6 col12\" >245</td>\n",
              "      <td id=\"T_2aa4c_row6_col13\" class=\"data row6 col13\" >126</td>\n",
              "      <td id=\"T_2aa4c_row6_col14\" class=\"data row6 col14\" >0</td>\n",
              "      <td id=\"T_2aa4c_row6_col15\" class=\"data row6 col15\" >0</td>\n",
              "      <td id=\"T_2aa4c_row6_col16\" class=\"data row6 col16\" >0</td>\n",
              "      <td id=\"T_2aa4c_row6_col17\" class=\"data row6 col17\" >0</td>\n",
              "    </tr>\n",
              "    <tr>\n",
              "      <th id=\"T_2aa4c_level0_row7\" class=\"row_heading level0 row7\" >7</th>\n",
              "      <td id=\"T_2aa4c_row7_col0\" class=\"data row7 col0\" >0</td>\n",
              "      <td id=\"T_2aa4c_row7_col1\" class=\"data row7 col1\" >0</td>\n",
              "      <td id=\"T_2aa4c_row7_col2\" class=\"data row7 col2\" >0</td>\n",
              "      <td id=\"T_2aa4c_row7_col3\" class=\"data row7 col3\" >0</td>\n",
              "      <td id=\"T_2aa4c_row7_col4\" class=\"data row7 col4\" >0</td>\n",
              "      <td id=\"T_2aa4c_row7_col5\" class=\"data row7 col5\" >0</td>\n",
              "      <td id=\"T_2aa4c_row7_col6\" class=\"data row7 col6\" >0</td>\n",
              "      <td id=\"T_2aa4c_row7_col7\" class=\"data row7 col7\" >14</td>\n",
              "      <td id=\"T_2aa4c_row7_col8\" class=\"data row7 col8\" >101</td>\n",
              "      <td id=\"T_2aa4c_row7_col9\" class=\"data row7 col9\" >223</td>\n",
              "      <td id=\"T_2aa4c_row7_col10\" class=\"data row7 col10\" >253</td>\n",
              "      <td id=\"T_2aa4c_row7_col11\" class=\"data row7 col11\" >248</td>\n",
              "      <td id=\"T_2aa4c_row7_col12\" class=\"data row7 col12\" >124</td>\n",
              "      <td id=\"T_2aa4c_row7_col13\" class=\"data row7 col13\" >0</td>\n",
              "      <td id=\"T_2aa4c_row7_col14\" class=\"data row7 col14\" >0</td>\n",
              "      <td id=\"T_2aa4c_row7_col15\" class=\"data row7 col15\" >0</td>\n",
              "      <td id=\"T_2aa4c_row7_col16\" class=\"data row7 col16\" >0</td>\n",
              "      <td id=\"T_2aa4c_row7_col17\" class=\"data row7 col17\" >0</td>\n",
              "    </tr>\n",
              "    <tr>\n",
              "      <th id=\"T_2aa4c_level0_row8\" class=\"row_heading level0 row8\" >8</th>\n",
              "      <td id=\"T_2aa4c_row8_col0\" class=\"data row8 col0\" >0</td>\n",
              "      <td id=\"T_2aa4c_row8_col1\" class=\"data row8 col1\" >0</td>\n",
              "      <td id=\"T_2aa4c_row8_col2\" class=\"data row8 col2\" >0</td>\n",
              "      <td id=\"T_2aa4c_row8_col3\" class=\"data row8 col3\" >0</td>\n",
              "      <td id=\"T_2aa4c_row8_col4\" class=\"data row8 col4\" >0</td>\n",
              "      <td id=\"T_2aa4c_row8_col5\" class=\"data row8 col5\" >11</td>\n",
              "      <td id=\"T_2aa4c_row8_col6\" class=\"data row8 col6\" >166</td>\n",
              "      <td id=\"T_2aa4c_row8_col7\" class=\"data row8 col7\" >239</td>\n",
              "      <td id=\"T_2aa4c_row8_col8\" class=\"data row8 col8\" >253</td>\n",
              "      <td id=\"T_2aa4c_row8_col9\" class=\"data row8 col9\" >253</td>\n",
              "      <td id=\"T_2aa4c_row8_col10\" class=\"data row8 col10\" >253</td>\n",
              "      <td id=\"T_2aa4c_row8_col11\" class=\"data row8 col11\" >187</td>\n",
              "      <td id=\"T_2aa4c_row8_col12\" class=\"data row8 col12\" >30</td>\n",
              "      <td id=\"T_2aa4c_row8_col13\" class=\"data row8 col13\" >0</td>\n",
              "      <td id=\"T_2aa4c_row8_col14\" class=\"data row8 col14\" >0</td>\n",
              "      <td id=\"T_2aa4c_row8_col15\" class=\"data row8 col15\" >0</td>\n",
              "      <td id=\"T_2aa4c_row8_col16\" class=\"data row8 col16\" >0</td>\n",
              "      <td id=\"T_2aa4c_row8_col17\" class=\"data row8 col17\" >0</td>\n",
              "    </tr>\n",
              "    <tr>\n",
              "      <th id=\"T_2aa4c_level0_row9\" class=\"row_heading level0 row9\" >9</th>\n",
              "      <td id=\"T_2aa4c_row9_col0\" class=\"data row9 col0\" >0</td>\n",
              "      <td id=\"T_2aa4c_row9_col1\" class=\"data row9 col1\" >0</td>\n",
              "      <td id=\"T_2aa4c_row9_col2\" class=\"data row9 col2\" >0</td>\n",
              "      <td id=\"T_2aa4c_row9_col3\" class=\"data row9 col3\" >0</td>\n",
              "      <td id=\"T_2aa4c_row9_col4\" class=\"data row9 col4\" >0</td>\n",
              "      <td id=\"T_2aa4c_row9_col5\" class=\"data row9 col5\" >16</td>\n",
              "      <td id=\"T_2aa4c_row9_col6\" class=\"data row9 col6\" >248</td>\n",
              "      <td id=\"T_2aa4c_row9_col7\" class=\"data row9 col7\" >250</td>\n",
              "      <td id=\"T_2aa4c_row9_col8\" class=\"data row9 col8\" >253</td>\n",
              "      <td id=\"T_2aa4c_row9_col9\" class=\"data row9 col9\" >253</td>\n",
              "      <td id=\"T_2aa4c_row9_col10\" class=\"data row9 col10\" >253</td>\n",
              "      <td id=\"T_2aa4c_row9_col11\" class=\"data row9 col11\" >253</td>\n",
              "      <td id=\"T_2aa4c_row9_col12\" class=\"data row9 col12\" >232</td>\n",
              "      <td id=\"T_2aa4c_row9_col13\" class=\"data row9 col13\" >213</td>\n",
              "      <td id=\"T_2aa4c_row9_col14\" class=\"data row9 col14\" >111</td>\n",
              "      <td id=\"T_2aa4c_row9_col15\" class=\"data row9 col15\" >2</td>\n",
              "      <td id=\"T_2aa4c_row9_col16\" class=\"data row9 col16\" >0</td>\n",
              "      <td id=\"T_2aa4c_row9_col17\" class=\"data row9 col17\" >0</td>\n",
              "    </tr>\n",
              "    <tr>\n",
              "      <th id=\"T_2aa4c_level0_row10\" class=\"row_heading level0 row10\" >10</th>\n",
              "      <td id=\"T_2aa4c_row10_col0\" class=\"data row10 col0\" >0</td>\n",
              "      <td id=\"T_2aa4c_row10_col1\" class=\"data row10 col1\" >0</td>\n",
              "      <td id=\"T_2aa4c_row10_col2\" class=\"data row10 col2\" >0</td>\n",
              "      <td id=\"T_2aa4c_row10_col3\" class=\"data row10 col3\" >0</td>\n",
              "      <td id=\"T_2aa4c_row10_col4\" class=\"data row10 col4\" >0</td>\n",
              "      <td id=\"T_2aa4c_row10_col5\" class=\"data row10 col5\" >0</td>\n",
              "      <td id=\"T_2aa4c_row10_col6\" class=\"data row10 col6\" >0</td>\n",
              "      <td id=\"T_2aa4c_row10_col7\" class=\"data row10 col7\" >43</td>\n",
              "      <td id=\"T_2aa4c_row10_col8\" class=\"data row10 col8\" >98</td>\n",
              "      <td id=\"T_2aa4c_row10_col9\" class=\"data row10 col9\" >98</td>\n",
              "      <td id=\"T_2aa4c_row10_col10\" class=\"data row10 col10\" >208</td>\n",
              "      <td id=\"T_2aa4c_row10_col11\" class=\"data row10 col11\" >253</td>\n",
              "      <td id=\"T_2aa4c_row10_col12\" class=\"data row10 col12\" >253</td>\n",
              "      <td id=\"T_2aa4c_row10_col13\" class=\"data row10 col13\" >253</td>\n",
              "      <td id=\"T_2aa4c_row10_col14\" class=\"data row10 col14\" >253</td>\n",
              "      <td id=\"T_2aa4c_row10_col15\" class=\"data row10 col15\" >187</td>\n",
              "      <td id=\"T_2aa4c_row10_col16\" class=\"data row10 col16\" >22</td>\n",
              "      <td id=\"T_2aa4c_row10_col17\" class=\"data row10 col17\" >0</td>\n",
              "    </tr>\n",
              "  </tbody>\n",
              "</table>\n"
            ]
          },
          "metadata": {},
          "execution_count": 8
        }
      ]
    },
    {
      "cell_type": "code",
      "source": [
        "#make list of all images as tensors\n",
        "seven_tensors = [tensor(Image.open(o)) for o in sevens]\n",
        "three_tensors = [tensor(Image.open(o)) for o in threes]\n",
        "len(three_tensors), len(seven_tensors)"
      ],
      "metadata": {
        "colab": {
          "base_uri": "https://localhost:8080/"
        },
        "id": "Zhod4n9IQeID",
        "outputId": "307b3e16-405d-4e6f-edd1-af8d21c0c3b2"
      },
      "execution_count": 9,
      "outputs": [
        {
          "output_type": "execute_result",
          "data": {
            "text/plain": [
              "(6131, 6265)"
            ]
          },
          "metadata": {},
          "execution_count": 9
        }
      ]
    },
    {
      "cell_type": "code",
      "source": [
        "show_image(three_tensors[1])"
      ],
      "metadata": {
        "colab": {
          "base_uri": "https://localhost:8080/",
          "height": 132
        },
        "id": "kLGN-TOzR3iB",
        "outputId": "2d5712d5-1f86-4642-9e16-cb20a9cd48f6"
      },
      "execution_count": 10,
      "outputs": [
        {
          "output_type": "execute_result",
          "data": {
            "text/plain": [
              "<Axes: >"
            ]
          },
          "metadata": {},
          "execution_count": 10
        },
        {
          "output_type": "display_data",
          "data": {
            "text/plain": [
              "<Figure size 100x100 with 1 Axes>"
            ],
            "image/png": "[encoded data removed]"
          },
          "metadata": {}
        }
      ]
    },
    {
      "cell_type": "code",
      "source": [
        "#stack the tensors\n",
        "stacked_threes = torch.stack(three_tensors).float()/255\n",
        "stacked_sevens = torch.stack(seven_tensors).float()/255\n",
        "stacked_threes.shape"
      ],
      "metadata": {
        "colab": {
          "base_uri": "https://localhost:8080/"
        },
        "id": "15uUnc9ySQxL",
        "outputId": "ed46dc91-f7cb-4e29-ec2d-4be1c90572e7"
      },
      "execution_count": 11,
      "outputs": [
        {
          "output_type": "execute_result",
          "data": {
            "text/plain": [
              "torch.Size([6131, 28, 28])"
            ]
          },
          "metadata": {},
          "execution_count": 11
        }
      ]
    },
    {
      "cell_type": "code",
      "source": [
        "mean3 = stacked_threes.mean(0)\n",
        "show_image(mean3);"
      ],
      "metadata": {
        "colab": {
          "base_uri": "https://localhost:8080/",
          "height": 114
        },
        "id": "blfUH9biSseA",
        "outputId": "59b83fb2-c01b-45af-975c-013f427d6e40"
      },
      "execution_count": 12,
      "outputs": [
        {
          "output_type": "display_data",
          "data": {
            "text/plain": [
              "<Figure size 100x100 with 1 Axes>"
            ],
            "image/png": "[encoded data removed]"
          },
          "metadata": {}
        }
      ]
    },
    {
      "cell_type": "code",
      "source": [
        "mean7 = stacked_sevens.mean(0)\n",
        "show_image(mean7)"
      ],
      "metadata": {
        "colab": {
          "base_uri": "https://localhost:8080/",
          "height": 132
        },
        "id": "8zM_RgNuTDqw",
        "outputId": "bb3b4f73-2b5c-4614-c1b1-4d24c71723b5"
      },
      "execution_count": 13,
      "outputs": [
        {
          "output_type": "execute_result",
          "data": {
            "text/plain": [
              "<Axes: >"
            ]
          },
          "metadata": {},
          "execution_count": 13
        },
        {
          "output_type": "display_data",
          "data": {
            "text/plain": [
              "<Figure size 100x100 with 1 Axes>"
            ],
            "image/png": "[encoded data removed]"
          },
          "metadata": {}
        }
      ]
    },
    {
      "cell_type": "code",
      "source": [
        "#random image\n",
        "a_3 = stacked_threes[1]\n",
        "show_image(a_3)"
      ],
      "metadata": {
        "colab": {
          "base_uri": "https://localhost:8080/",
          "height": 132
        },
        "id": "VJ1kmhpRTLPi",
        "outputId": "2c436980-a959-4d19-a51d-67a27d926b56"
      },
      "execution_count": 14,
      "outputs": [
        {
          "output_type": "execute_result",
          "data": {
            "text/plain": [
              "<Axes: >"
            ]
          },
          "metadata": {},
          "execution_count": 14
        },
        {
          "output_type": "display_data",
          "data": {
            "text/plain": [
              "<Figure size 100x100 with 1 Axes>"
            ],
            "image/png": "[encoded data removed]"
          },
          "metadata": {}
        }
      ]
    },
    {
      "cell_type": "code",
      "source": [
        "dist_3_abs = (a_3- mean3).abs().mean()\n",
        "dist_3_sqr = ((a_3 - mean3)**2).mean().sqrt()\n",
        "dist_3_abs, dist_3_sqr"
      ],
      "metadata": {
        "colab": {
          "base_uri": "https://localhost:8080/"
        },
        "id": "IUrakRyzUG18",
        "outputId": "76dfea83-cfec-4e69-a18f-1369dcc5f8e1"
      },
      "execution_count": 15,
      "outputs": [
        {
          "output_type": "execute_result",
          "data": {
            "text/plain": [
              "(tensor(0.1114), tensor(0.2021))"
            ]
          },
          "metadata": {},
          "execution_count": 15
        }
      ]
    },
    {
      "cell_type": "code",
      "source": [
        "dist_7_abs = (a_3 - mean7).abs().mean()\n",
        "dist_7_sqr = ((a_3 - mean7)**2).mean().sqrt()\n",
        "dist_7_abs, dist_7_sqr"
      ],
      "metadata": {
        "colab": {
          "base_uri": "https://localhost:8080/"
        },
        "id": "_8LFaFPuVYk0",
        "outputId": "73e14d4a-887a-4675-badf-89578b8b44b6"
      },
      "execution_count": 16,
      "outputs": [
        {
          "output_type": "execute_result",
          "data": {
            "text/plain": [
              "(tensor(0.1586), tensor(0.3021))"
            ]
          },
          "metadata": {},
          "execution_count": 16
        }
      ]
    },
    {
      "cell_type": "code",
      "source": [
        "F.l1_loss(a_3.float() , mean3)"
      ],
      "metadata": {
        "colab": {
          "base_uri": "https://localhost:8080/"
        },
        "id": "1YdMe01vVlyt",
        "outputId": "84963814-5174-432d-808b-905f8d8f6e54"
      },
      "execution_count": 17,
      "outputs": [
        {
          "output_type": "execute_result",
          "data": {
            "text/plain": [
              "tensor(0.1114)"
            ]
          },
          "metadata": {},
          "execution_count": 17
        }
      ]
    },
    {
      "cell_type": "code",
      "source": [
        "F.mse_loss(a_3, mean7).sqrt()"
      ],
      "metadata": {
        "colab": {
          "base_uri": "https://localhost:8080/"
        },
        "id": "LbQmaTyVWAgG",
        "outputId": "f458d6ab-4f93-495a-a53b-ffcb4ff9a93f"
      },
      "execution_count": 18,
      "outputs": [
        {
          "output_type": "execute_result",
          "data": {
            "text/plain": [
              "tensor(0.3021)"
            ]
          },
          "metadata": {},
          "execution_count": 18
        }
      ]
    },
    {
      "cell_type": "code",
      "source": [
        "valid_3_tens = torch.stack([tensor(Image.open(o)) for o in (path/'valid'/'3').ls()])\n",
        "valid_7_tens = torch.stack([tensor(Image.open(o)) for o in (path/'valid'/'7').ls()])\n",
        "valid_3_tens = valid_3_tens.float()/255\n",
        "valid_7_tens = valid_7_tens.float()/255\n",
        "valid_3_tens.shape, valid_7_tens.shape"
      ],
      "metadata": {
        "colab": {
          "base_uri": "https://localhost:8080/"
        },
        "id": "Dh9aEXNGWHS0",
        "outputId": "09fc206c-10cc-46fe-92f6-eb7feb42f8cf"
      },
      "execution_count": 19,
      "outputs": [
        {
          "output_type": "execute_result",
          "data": {
            "text/plain": [
              "(torch.Size([1010, 28, 28]), torch.Size([1028, 28, 28]))"
            ]
          },
          "metadata": {},
          "execution_count": 19
        }
      ]
    },
    {
      "cell_type": "code",
      "source": [
        "def mnist_distance(a,b): return (a-b).abs().mean((-1,-2))\n",
        "mnist_distance(a_3, mean3)"
      ],
      "metadata": {
        "colab": {
          "base_uri": "https://localhost:8080/"
        },
        "id": "w0NWZxhmYE-j",
        "outputId": "483c1bea-bcb5-4dcd-dae3-fe46503bb4e7"
      },
      "execution_count": 20,
      "outputs": [
        {
          "output_type": "execute_result",
          "data": {
            "text/plain": [
              "tensor(0.1114)"
            ]
          },
          "metadata": {},
          "execution_count": 20
        }
      ]
    },
    {
      "cell_type": "code",
      "source": [
        "valid_3_dist = mnist_distance(valid_3_tens, mean3)\n",
        "valid_3_dist, valid_3_dist.shape"
      ],
      "metadata": {
        "colab": {
          "base_uri": "https://localhost:8080/"
        },
        "id": "mZzTpZo1Y7U9",
        "outputId": "eb69cbaf-a73a-4e2d-8493-e04be9074092"
      },
      "execution_count": 21,
      "outputs": [
        {
          "output_type": "execute_result",
          "data": {
            "text/plain": [
              "(tensor([0.1355, 0.1332, 0.1430,  ..., 0.1299, 0.1408, 0.1270]),\n",
              " torch.Size([1010]))"
            ]
          },
          "metadata": {},
          "execution_count": 21
        }
      ]
    },
    {
      "cell_type": "code",
      "source": [
        "def is_3(x):\n",
        "  return mnist_distance(x,mean3)< mnist_distance(x,mean7)"
      ],
      "metadata": {
        "id": "BbplThOmY-nV"
      },
      "execution_count": 22,
      "outputs": []
    },
    {
      "cell_type": "code",
      "source": [
        "is_3(a_3), is_3(a_3).float()"
      ],
      "metadata": {
        "colab": {
          "base_uri": "https://localhost:8080/"
        },
        "id": "xp8a3zZqZYGj",
        "outputId": "e2a0dd3d-6e7d-454a-a6b4-d06c2b5a9ab4"
      },
      "execution_count": 23,
      "outputs": [
        {
          "output_type": "execute_result",
          "data": {
            "text/plain": [
              "(tensor(True), tensor(1.))"
            ]
          },
          "metadata": {},
          "execution_count": 23
        }
      ]
    },
    {
      "cell_type": "code",
      "source": [
        "is_3(valid_3_tens)"
      ],
      "metadata": {
        "colab": {
          "base_uri": "https://localhost:8080/"
        },
        "id": "F9lhHNbiZdGf",
        "outputId": "624105f9-e6f2-45b9-bb2b-7250524ac87a"
      },
      "execution_count": 24,
      "outputs": [
        {
          "output_type": "execute_result",
          "data": {
            "text/plain": [
              "tensor([True, True, True,  ..., True, True, True])"
            ]
          },
          "metadata": {},
          "execution_count": 24
        }
      ]
    },
    {
      "cell_type": "code",
      "source": [
        "accuracy_3s = is_3(valid_3_tens).float().mean()\n",
        "accuracy_7s = (1 - is_3(valid_7_tens).float()).mean()\n",
        "\n",
        "accuracy_3s,accuracy_7s, (accuracy_3s + accuracy_7s)/2"
      ],
      "metadata": {
        "colab": {
          "base_uri": "https://localhost:8080/"
        },
        "id": "D4lgom__ZhfK",
        "outputId": "fcc579b1-9d6d-4e84-f06d-d424bb4b9de5"
      },
      "execution_count": 25,
      "outputs": [
        {
          "output_type": "execute_result",
          "data": {
            "text/plain": [
              "(tensor(0.9168), tensor(0.9854), tensor(0.9511))"
            ]
          },
          "metadata": {},
          "execution_count": 25
        }
      ]
    },
    {
      "cell_type": "code",
      "source": [
        "#id gradient_descent\n",
        "#caption The gradient descent process\n",
        "#alt Graph showing the steps for Gradient Descent\n",
        "gv('''\n",
        "init->predict->loss->gradient->step->stop\n",
        "step->predict[label=repeat]\n",
        "''')"
      ],
      "metadata": {
        "colab": {
          "base_uri": "https://localhost:8080/",
          "height": 145
        },
        "id": "nEK6EhM-Z6Cs",
        "outputId": "58fd4de0-fd73-4fc5-9ede-43b7c7284023"
      },
      "execution_count": 26,
      "outputs": [
        {
          "output_type": "execute_result",
          "data": {
            "image/svg+xml": "<?xml version=\"1.0\" encoding=\"UTF-8\" standalone=\"no\"?>\n<!DOCTYPE svg PUBLIC \"-//W3C//DTD SVG 1.1//EN\"\n \"http://www.w3.org/Graphics/SVG/1.1/DTD/svg11.dtd\">\n<!-- Generated by graphviz version 2.43.0 (0)\n -->\n<!-- Title: G Pages: 1 -->\n<svg width=\"591pt\" height=\"78pt\"\n viewBox=\"0.00 0.00 591.49 78.00\" xmlns=\"http://www.w3.org/2000/svg\" xmlns:xlink=\"http://www.w3.org/1999/xlink\">\n<g id=\"graph0\" class=\"graph\" transform=\"scale(1 1) rotate(0) translate(4 74)\">\n<title>G</title>\n<polygon fill=\"white\" stroke=\"transparent\" points=\"-4,4 -4,-74 587.49,-74 587.49,4 -4,4\"/>\n<!-- init -->\n<g id=\"node1\" class=\"node\">\n<title>init</title>\n<ellipse fill=\"none\" stroke=\"black\" cx=\"27\" cy=\"-18\" rx=\"27\" ry=\"18\"/>\n<text text-anchor=\"middle\" x=\"27\" y=\"-14.3\" font-family=\"Times,serif\" font-size=\"14.00\">init</text>\n</g>\n<!-- predict -->\n<g id=\"node2\" class=\"node\">\n<title>predict</title>\n<ellipse fill=\"none\" stroke=\"black\" cx=\"126.1\" cy=\"-18\" rx=\"35.19\" ry=\"18\"/>\n<text text-anchor=\"middle\" x=\"126.1\" y=\"-14.3\" font-family=\"Times,serif\" font-size=\"14.00\">predict</text>\n</g>\n<!-- init&#45;&gt;predict -->\n<g id=\"edge1\" class=\"edge\">\n<title>init&#45;&gt;predict</title>\n<path fill=\"none\" stroke=\"black\" d=\"M54.02,-18C62.26,-18 71.62,-18 80.78,-18\"/>\n<polygon fill=\"black\" stroke=\"black\" points=\"80.96,-21.5 90.96,-18 80.96,-14.5 80.96,-21.5\"/>\n</g>\n<!-- loss -->\n<g id=\"node3\" class=\"node\">\n<title>loss</title>\n<ellipse fill=\"none\" stroke=\"black\" cx=\"225.19\" cy=\"-52\" rx=\"27\" ry=\"18\"/>\n<text text-anchor=\"middle\" x=\"225.19\" y=\"-48.3\" font-family=\"Times,serif\" font-size=\"14.00\">loss</text>\n</g>\n<!-- predict&#45;&gt;loss -->\n<g id=\"edge2\" class=\"edge\">\n<title>predict&#45;&gt;loss</title>\n<path fill=\"none\" stroke=\"black\" d=\"M155.44,-27.93C166.61,-31.84 179.52,-36.36 191.11,-40.42\"/>\n<polygon fill=\"black\" stroke=\"black\" points=\"190.29,-43.84 200.88,-43.84 192.6,-37.23 190.29,-43.84\"/>\n</g>\n<!-- gradient -->\n<g id=\"node4\" class=\"node\">\n<title>gradient</title>\n<ellipse fill=\"none\" stroke=\"black\" cx=\"361.84\" cy=\"-52\" rx=\"39.79\" ry=\"18\"/>\n<text text-anchor=\"middle\" x=\"361.84\" y=\"-48.3\" font-family=\"Times,serif\" font-size=\"14.00\">gradient</text>\n</g>\n<!-- loss&#45;&gt;gradient -->\n<g id=\"edge3\" class=\"edge\">\n<title>loss&#45;&gt;gradient</title>\n<path fill=\"none\" stroke=\"black\" d=\"M252.47,-52C269.35,-52 291.8,-52 311.88,-52\"/>\n<polygon fill=\"black\" stroke=\"black\" points=\"312.13,-55.5 322.13,-52 312.13,-48.5 312.13,-55.5\"/>\n</g>\n<!-- step -->\n<g id=\"node5\" class=\"node\">\n<title>step</title>\n<ellipse fill=\"none\" stroke=\"black\" cx=\"465.49\" cy=\"-18\" rx=\"27\" ry=\"18\"/>\n<text text-anchor=\"middle\" x=\"465.49\" y=\"-14.3\" font-family=\"Times,serif\" font-size=\"14.00\">step</text>\n</g>\n<!-- gradient&#45;&gt;step -->\n<g id=\"edge4\" class=\"edge\">\n<title>gradient&#45;&gt;step</title>\n<path fill=\"none\" stroke=\"black\" d=\"M394.17,-41.52C405.92,-37.59 419.32,-33.11 431.25,-29.12\"/>\n<polygon fill=\"black\" stroke=\"black\" points=\"432.48,-32.4 440.85,-25.91 430.26,-25.76 432.48,-32.4\"/>\n</g>\n<!-- step&#45;&gt;predict -->\n<g id=\"edge6\" class=\"edge\">\n<title>step&#45;&gt;predict</title>\n<path fill=\"none\" stroke=\"black\" d=\"M438.29,-18C380.72,-18 242.6,-18 171.32,-18\"/>\n<polygon fill=\"black\" stroke=\"black\" points=\"171.3,-14.5 161.3,-18 171.3,-21.5 171.3,-14.5\"/>\n<text text-anchor=\"middle\" x=\"287.19\" y=\"-21.8\" font-family=\"Times,serif\" font-size=\"14.00\">repeat</text>\n</g>\n<!-- stop -->\n<g id=\"node6\" class=\"node\">\n<title>stop</title>\n<ellipse fill=\"none\" stroke=\"black\" cx=\"556.49\" cy=\"-18\" rx=\"27\" ry=\"18\"/>\n<text text-anchor=\"middle\" x=\"556.49\" y=\"-14.3\" font-family=\"Times,serif\" font-size=\"14.00\">stop</text>\n</g>\n<!-- step&#45;&gt;stop -->\n<g id=\"edge5\" class=\"edge\">\n<title>step&#45;&gt;stop</title>\n<path fill=\"none\" stroke=\"black\" d=\"M492.71,-18C501.04,-18 510.4,-18 519.3,-18\"/>\n<polygon fill=\"black\" stroke=\"black\" points=\"519.45,-21.5 529.45,-18 519.45,-14.5 519.45,-21.5\"/>\n</g>\n</g>\n</svg>\n",
            "text/plain": [
              "<graphviz.sources.Source at 0x7d7165ae7dd0>"
            ]
          },
          "metadata": {},
          "execution_count": 26
        }
      ]
    },
    {
      "cell_type": "code",
      "source": [
        "# concat and build training set\n",
        "train_x = torch.cat([stacked_threes, stacked_sevens]).view(-1,28*28)"
      ],
      "metadata": {
        "id": "14vCiFLPdRcH"
      },
      "execution_count": 27,
      "outputs": []
    },
    {
      "cell_type": "code",
      "source": [
        "train_y = tensor([1]* len(threes) + [0]*len(sevens)).unsqueeze(1)\n",
        "train_x.shape, train_y.shape"
      ],
      "metadata": {
        "colab": {
          "base_uri": "https://localhost:8080/"
        },
        "id": "EohFt-Gf1Ld0",
        "outputId": "fa295592-e430-40df-b7f0-c92870675793"
      },
      "execution_count": 28,
      "outputs": [
        {
          "output_type": "execute_result",
          "data": {
            "text/plain": [
              "(torch.Size([12396, 784]), torch.Size([12396, 1]))"
            ]
          },
          "metadata": {},
          "execution_count": 28
        }
      ]
    },
    {
      "cell_type": "code",
      "source": [
        "dset = list(zip(train_x, train_y))\n",
        "x,y = dset[0]\n",
        "x.shape, y"
      ],
      "metadata": {
        "colab": {
          "base_uri": "https://localhost:8080/"
        },
        "id": "sCNCPRwe1uZG",
        "outputId": "7807a6a9-e757-488d-b380-8693d79dc0ad"
      },
      "execution_count": 29,
      "outputs": [
        {
          "output_type": "execute_result",
          "data": {
            "text/plain": [
              "(torch.Size([784]), tensor([1]))"
            ]
          },
          "metadata": {},
          "execution_count": 29
        }
      ]
    },
    {
      "cell_type": "code",
      "source": [
        "valid_x = torch.cat([valid_3_tens, valid_7_tens]).view(-1, 28*28)\n",
        "valid_y = tensor([1]*len(valid_3_tens) + [0]*len(valid_7_tens)).unsqueeze(1)\n",
        "valid_dset = list(zip(valid_x,valid_y))"
      ],
      "metadata": {
        "id": "yhlxTBNS11Ar"
      },
      "execution_count": 30,
      "outputs": []
    },
    {
      "cell_type": "code",
      "source": [
        "def init_params(size, std = 1.0): return (torch.randn(size)* std).requires_grad_()"
      ],
      "metadata": {
        "id": "UAPshI4f13zk"
      },
      "execution_count": 31,
      "outputs": []
    },
    {
      "cell_type": "code",
      "source": [
        "weights = init_params((28*28,1))"
      ],
      "metadata": {
        "id": "CJ9Vp0fF2B6y"
      },
      "execution_count": 35,
      "outputs": []
    },
    {
      "cell_type": "code",
      "source": [
        "bias = init_params(1)"
      ],
      "metadata": {
        "id": "3Wu7j-F92GEJ"
      },
      "execution_count": 33,
      "outputs": []
    },
    {
      "cell_type": "code",
      "source": [
        "def linear1(xb): return xb@weights + bias\n",
        "preds = linear1(train_x)\n",
        "preds"
      ],
      "metadata": {
        "colab": {
          "base_uri": "https://localhost:8080/"
        },
        "id": "azWW2PUH2ImU",
        "outputId": "bc5a64aa-c87d-4852-9195-f5d39dd5272d"
      },
      "execution_count": 36,
      "outputs": [
        {
          "output_type": "execute_result",
          "data": {
            "text/plain": [
              "tensor([[14.7117],\n",
              "        [14.6149],\n",
              "        [16.6676],\n",
              "        ...,\n",
              "        [ 1.8319],\n",
              "        [ 2.3381],\n",
              "        [ 3.3113]], grad_fn=<AddBackward0>)"
            ]
          },
          "metadata": {},
          "execution_count": 36
        }
      ]
    },
    {
      "cell_type": "code",
      "source": [
        "def mnist_loss(predictions, targets):\n",
        "  return torch.where(targets==1, 1-predictions, predictions).mean()"
      ],
      "metadata": {
        "id": "k-5vXPl52Ru3"
      },
      "execution_count": 37,
      "outputs": []
    },
    {
      "cell_type": "code",
      "source": [
        "def sigmoid(x):\n",
        "  return 1/(1+torch.exp(-x))"
      ],
      "metadata": {
        "id": "nWlqIgC33L7L"
      },
      "execution_count": 38,
      "outputs": []
    },
    {
      "cell_type": "code",
      "source": [
        "def mnist_loss(predictions, targets):\n",
        "    predictions = predictions.sigmoid()\n",
        "    return torch.where(targets==1, 1-predictions, predictions).mean()"
      ],
      "metadata": {
        "id": "OkFc-ab93cZj"
      },
      "execution_count": 39,
      "outputs": []
    },
    {
      "cell_type": "code",
      "source": [
        "dl = DataLoader(dset, batch_size=256)\n",
        "xb,yb = first(dl)\n",
        "xb.shape,yb.shape"
      ],
      "metadata": {
        "colab": {
          "base_uri": "https://localhost:8080/"
        },
        "id": "sKO2kztk3f4C",
        "outputId": "d44ac84b-6dae-437b-84c8-a2c19bcacfcc"
      },
      "execution_count": 40,
      "outputs": [
        {
          "output_type": "execute_result",
          "data": {
            "text/plain": [
              "(torch.Size([256, 784]), torch.Size([256, 1]))"
            ]
          },
          "metadata": {},
          "execution_count": 40
        }
      ]
    },
    {
      "cell_type": "code",
      "source": [
        "valid_dl = DataLoader(valid_dset, batch_size=256)"
      ],
      "metadata": {
        "id": "JYaUOe2U32JE"
      },
      "execution_count": 41,
      "outputs": []
    },
    {
      "cell_type": "code",
      "source": [
        "def calc_grad(xb, yb, model):\n",
        "    preds = model(xb)\n",
        "    loss = mnist_loss(preds, yb)\n",
        "    loss.backward()"
      ],
      "metadata": {
        "id": "OP4YUxrs34t_"
      },
      "execution_count": 42,
      "outputs": []
    },
    {
      "cell_type": "code",
      "source": [
        "batch = train_x[:4]\n",
        "batch.shape"
      ],
      "metadata": {
        "colab": {
          "base_uri": "https://localhost:8080/"
        },
        "id": "7gjRziNM4KZS",
        "outputId": "f81e9bc3-3dd5-48b6-f46d-71b737208ddb"
      },
      "execution_count": 43,
      "outputs": [
        {
          "output_type": "execute_result",
          "data": {
            "text/plain": [
              "torch.Size([4, 784])"
            ]
          },
          "metadata": {},
          "execution_count": 43
        }
      ]
    },
    {
      "cell_type": "code",
      "source": [
        "preds = linear1(batch)\n",
        "preds"
      ],
      "metadata": {
        "colab": {
          "base_uri": "https://localhost:8080/"
        },
        "id": "XMqOScPS4Nlw",
        "outputId": "74cc221b-9b33-478f-f8b3-2d2398df83b2"
      },
      "execution_count": 44,
      "outputs": [
        {
          "output_type": "execute_result",
          "data": {
            "text/plain": [
              "tensor([[14.7117],\n",
              "        [14.6149],\n",
              "        [16.6676],\n",
              "        [18.3539]], grad_fn=<AddBackward0>)"
            ]
          },
          "metadata": {},
          "execution_count": 44
        }
      ]
    },
    {
      "cell_type": "code",
      "source": [
        "calc_grad(batch, train_y[:4], linear1)\n",
        "weights.grad.mean(),bias.grad"
      ],
      "metadata": {
        "colab": {
          "base_uri": "https://localhost:8080/"
        },
        "id": "enyxQdad4Qmc",
        "outputId": "0b8e9ba8-a854-4726-82ab-2b2e04a2400d"
      },
      "execution_count": 45,
      "outputs": [
        {
          "output_type": "execute_result",
          "data": {
            "text/plain": [
              "(tensor(-2.9740e-08), tensor([-2.0862e-07]))"
            ]
          },
          "metadata": {},
          "execution_count": 45
        }
      ]
    },
    {
      "cell_type": "code",
      "source": [
        "def train_epoch(model, lr, params):\n",
        "    for xb,yb in dl:\n",
        "        calc_grad(xb, yb, model)\n",
        "        for p in params:\n",
        "            p.data -= p.grad*lr\n",
        "            p.grad.zero_()"
      ],
      "metadata": {
        "id": "a9ULjb3E4TI_"
      },
      "execution_count": 46,
      "outputs": []
    },
    {
      "cell_type": "code",
      "source": [
        "(preds>0.0).float() == train_y[:4]"
      ],
      "metadata": {
        "colab": {
          "base_uri": "https://localhost:8080/"
        },
        "id": "rYalie-I4gC6",
        "outputId": "9f3fc478-78df-4d00-e0ae-204ff35ece51"
      },
      "execution_count": 47,
      "outputs": [
        {
          "output_type": "execute_result",
          "data": {
            "text/plain": [
              "tensor([[True],\n",
              "        [True],\n",
              "        [True],\n",
              "        [True]])"
            ]
          },
          "metadata": {},
          "execution_count": 47
        }
      ]
    },
    {
      "cell_type": "code",
      "source": [
        "def batch_accuracy(xb, yb):\n",
        "    preds = xb.sigmoid()\n",
        "    correct = (preds>0.5) == yb\n",
        "    return correct.float().mean()"
      ],
      "metadata": {
        "id": "hv3JNVlN4jIS"
      },
      "execution_count": 48,
      "outputs": []
    },
    {
      "cell_type": "code",
      "source": [
        "batch_accuracy(linear1(batch), train_y[:4])"
      ],
      "metadata": {
        "colab": {
          "base_uri": "https://localhost:8080/"
        },
        "id": "iQ36KTkA4lZP",
        "outputId": "ff94a80f-11c9-452a-ed12-be35832efa15"
      },
      "execution_count": 49,
      "outputs": [
        {
          "output_type": "execute_result",
          "data": {
            "text/plain": [
              "tensor(1.)"
            ]
          },
          "metadata": {},
          "execution_count": 49
        }
      ]
    },
    {
      "cell_type": "code",
      "source": [
        "def validate_epoch(model):\n",
        "    accs = [batch_accuracy(model(xb), yb) for xb,yb in valid_dl]\n",
        "    return round(torch.stack(accs).mean().item(), 4)"
      ],
      "metadata": {
        "id": "twtvSIBv4pf5"
      },
      "execution_count": 50,
      "outputs": []
    },
    {
      "cell_type": "code",
      "source": [
        "validate_epoch(linear1)"
      ],
      "metadata": {
        "colab": {
          "base_uri": "https://localhost:8080/"
        },
        "id": "Z6j4CVgj4uSO",
        "outputId": "284377f3-006d-40fd-9645-fc7e4363d45a"
      },
      "execution_count": 51,
      "outputs": [
        {
          "output_type": "execute_result",
          "data": {
            "text/plain": [
              "0.5628"
            ]
          },
          "metadata": {},
          "execution_count": 51
        }
      ]
    },
    {
      "cell_type": "code",
      "source": [
        "lr = 1.\n",
        "params = weights,bias\n",
        "train_epoch(linear1, lr, params)\n",
        "validate_epoch(linear1)"
      ],
      "metadata": {
        "colab": {
          "base_uri": "https://localhost:8080/"
        },
        "id": "FqeFHLeC41Uy",
        "outputId": "54fa0881-ae06-409b-e70f-2986d84f4830"
      },
      "execution_count": 53,
      "outputs": [
        {
          "output_type": "execute_result",
          "data": {
            "text/plain": [
              "0.7187"
            ]
          },
          "metadata": {},
          "execution_count": 53
        }
      ]
    },
    {
      "cell_type": "code",
      "source": [
        "for i in range(20):\n",
        "    train_epoch(linear1, lr, params)\n",
        "    print(validate_epoch(linear1), end=' ')"
      ],
      "metadata": {
        "colab": {
          "base_uri": "https://localhost:8080/"
        },
        "id": "N-gE1zjt4w2k",
        "outputId": "143795e3-4ff4-4553-8164-8477a1af5a8f"
      },
      "execution_count": 54,
      "outputs": [
        {
          "output_type": "stream",
          "name": "stdout",
          "text": [
            "0.8549 0.9076 0.9301 0.9389 0.9472 0.954 0.9564 0.9618 0.9642 0.9662 0.9677 0.9696 0.9726 0.9726 0.9726 0.9726 0.9735 0.974 0.9745 0.9745 "
          ]
        }
      ]
    },
    {
      "cell_type": "code",
      "source": [
        "linear_model = nn.Linear(28*28,1)"
      ],
      "metadata": {
        "id": "51bO69bv4zFZ"
      },
      "execution_count": 55,
      "outputs": []
    },
    {
      "cell_type": "code",
      "source": [
        "w,b = linear_model.parameters()\n",
        "w.shape,b.shape"
      ],
      "metadata": {
        "colab": {
          "base_uri": "https://localhost:8080/"
        },
        "id": "tCmXvsBc486T",
        "outputId": "bfdc913c-9715-4031-df09-585fa02530ed"
      },
      "execution_count": 56,
      "outputs": [
        {
          "output_type": "execute_result",
          "data": {
            "text/plain": [
              "(torch.Size([1, 784]), torch.Size([1]))"
            ]
          },
          "metadata": {},
          "execution_count": 56
        }
      ]
    },
    {
      "cell_type": "code",
      "source": [
        "class BasicOptim:\n",
        "    def __init__(self,params,lr): self.params,self.lr = list(params),lr\n",
        "\n",
        "    def step(self, *args, **kwargs):\n",
        "        for p in self.params: p.data -= p.grad.data * self.lr\n",
        "\n",
        "    def zero_grad(self, *args, **kwargs):\n",
        "        for p in self.params: p.grad = None"
      ],
      "metadata": {
        "id": "_tWByepX4-me"
      },
      "execution_count": 57,
      "outputs": []
    },
    {
      "cell_type": "code",
      "source": [
        "opt = BasicOptim(linear_model.parameters(), lr)"
      ],
      "metadata": {
        "id": "mquM-hD15Q9r"
      },
      "execution_count": 62,
      "outputs": []
    },
    {
      "cell_type": "code",
      "source": [
        "def train_epoch(model):\n",
        "    for xb,yb in dl:\n",
        "        calc_grad(xb, yb, model)\n",
        "        opt.step()\n",
        "        opt.zero_grad()"
      ],
      "metadata": {
        "id": "An_18fUc5Ch6"
      },
      "execution_count": 64,
      "outputs": []
    },
    {
      "cell_type": "code",
      "source": [
        "validate_epoch(linear_model)"
      ],
      "metadata": {
        "colab": {
          "base_uri": "https://localhost:8080/"
        },
        "id": "IXHlA4lO5EKq",
        "outputId": "2ab63f03-1565-45a8-c96d-509040e8ad3b"
      },
      "execution_count": 65,
      "outputs": [
        {
          "output_type": "execute_result",
          "data": {
            "text/plain": [
              "0.4932"
            ]
          },
          "metadata": {},
          "execution_count": 65
        }
      ]
    },
    {
      "cell_type": "code",
      "source": [
        "def train_model(model, epochs):\n",
        "    for i in range(epochs):\n",
        "        train_epoch(model)\n",
        "        print(validate_epoch(model), end=' ')"
      ],
      "metadata": {
        "id": "fRS_dmo05GPi"
      },
      "execution_count": 66,
      "outputs": []
    },
    {
      "cell_type": "code",
      "source": [
        "train_model(linear_model, 20)"
      ],
      "metadata": {
        "colab": {
          "base_uri": "https://localhost:8080/"
        },
        "id": "u7flA7Wp5JEx",
        "outputId": "c7af6f25-857f-4b6a-d464-aba92ec47a24"
      },
      "execution_count": 67,
      "outputs": [
        {
          "output_type": "stream",
          "name": "stdout",
          "text": [
            "0.4932 0.4932 0.4932 0.4932 0.4932 0.4932 0.4932 0.4932 0.4932 0.4932 0.4932 0.4932 0.4932 0.4932 0.4932 0.4932 0.4932 0.4932 0.4932 0.4932 "
          ]
        }
      ]
    },
    {
      "cell_type": "code",
      "source": [
        "linear_model = nn.Linear(28*28,1)\n",
        "opt = SGD(linear_model.parameters(), lr)\n",
        "train_model(linear_model, 20)"
      ],
      "metadata": {
        "colab": {
          "base_uri": "https://localhost:8080/"
        },
        "id": "x9COieRg5Md6",
        "outputId": "eff19f55-6815-42c3-e40c-be92f02b853e"
      },
      "execution_count": 68,
      "outputs": [
        {
          "output_type": "stream",
          "name": "stdout",
          "text": [
            "0.4932 0.9018 0.8066 0.9072 0.9306 0.9443 0.9546 0.9609 0.9648 0.9668 0.9692 0.9712 0.9731 0.9746 0.9761 0.9761 0.9775 0.9775 0.9785 0.9785 "
          ]
        }
      ]
    },
    {
      "cell_type": "code",
      "source": [
        "dls = DataLoaders(dl, valid_dl)"
      ],
      "metadata": {
        "id": "RVuTfCQj5iLw"
      },
      "execution_count": 69,
      "outputs": []
    },
    {
      "cell_type": "code",
      "source": [
        "learn = Learner(dls, nn.Linear(28*28,1), opt_func=SGD,\n",
        "                loss_func=mnist_loss, metrics=batch_accuracy)"
      ],
      "metadata": {
        "id": "Q_uo4n_T5oUY"
      },
      "execution_count": 70,
      "outputs": []
    },
    {
      "cell_type": "code",
      "source": [
        "learn.fit(10, lr=lr)"
      ],
      "metadata": {
        "colab": {
          "base_uri": "https://localhost:8080/",
          "height": 363
        },
        "id": "5JHIaIyt5qKk",
        "outputId": "e3ca9365-d4d7-438f-aeee-32434a276852"
      },
      "execution_count": 71,
      "outputs": [
        {
          "output_type": "display_data",
          "data": {
            "text/plain": [
              "<IPython.core.display.HTML object>"
            ],
            "text/html": [
              "\n",
              "<style>\n",
              "    /* Turns off some styling */\n",
              "    progress {\n",
              "        /* gets rid of default border in Firefox and Opera. */\n",
              "        border: none;\n",
              "        /* Needs to be in here for Safari polyfill so background images work as expected. */\n",
              "        background-size: auto;\n",
              "    }\n",
              "    progress:not([value]), progress:not([value])::-webkit-progress-bar {\n",
              "        background: repeating-linear-gradient(45deg, #7e7e7e, #7e7e7e 10px, #5c5c5c 10px, #5c5c5c 20px);\n",
              "    }\n",
              "    .progress-bar-interrupted, .progress-bar-interrupted::-webkit-progress-bar {\n",
              "        background: #F44336;\n",
              "    }\n",
              "</style>\n"
            ]
          },
          "metadata": {}
        },
        {
          "output_type": "display_data",
          "data": {
            "text/plain": [
              "<IPython.core.display.HTML object>"
            ],
            "text/html": [
              "<table border=\"1\" class=\"dataframe\">\n",
              "  <thead>\n",
              "    <tr style=\"text-align: left;\">\n",
              "      <th>epoch</th>\n",
              "      <th>train_loss</th>\n",
              "      <th>valid_loss</th>\n",
              "      <th>batch_accuracy</th>\n",
              "      <th>time</th>\n",
              "    </tr>\n",
              "  </thead>\n",
              "  <tbody>\n",
              "    <tr>\n",
              "      <td>0</td>\n",
              "      <td>0.636727</td>\n",
              "      <td>0.503577</td>\n",
              "      <td>0.495584</td>\n",
              "      <td>00:00</td>\n",
              "    </tr>\n",
              "    <tr>\n",
              "      <td>1</td>\n",
              "      <td>0.559006</td>\n",
              "      <td>0.142249</td>\n",
              "      <td>0.900883</td>\n",
              "      <td>00:00</td>\n",
              "    </tr>\n",
              "    <tr>\n",
              "      <td>2</td>\n",
              "      <td>0.203393</td>\n",
              "      <td>0.209227</td>\n",
              "      <td>0.805201</td>\n",
              "      <td>00:00</td>\n",
              "    </tr>\n",
              "    <tr>\n",
              "      <td>3</td>\n",
              "      <td>0.088536</td>\n",
              "      <td>0.114120</td>\n",
              "      <td>0.906771</td>\n",
              "      <td>00:00</td>\n",
              "    </tr>\n",
              "    <tr>\n",
              "      <td>4</td>\n",
              "      <td>0.046154</td>\n",
              "      <td>0.081132</td>\n",
              "      <td>0.931796</td>\n",
              "      <td>00:00</td>\n",
              "    </tr>\n",
              "    <tr>\n",
              "      <td>5</td>\n",
              "      <td>0.029631</td>\n",
              "      <td>0.064187</td>\n",
              "      <td>0.946516</td>\n",
              "      <td>00:00</td>\n",
              "    </tr>\n",
              "    <tr>\n",
              "      <td>6</td>\n",
              "      <td>0.022864</td>\n",
              "      <td>0.053833</td>\n",
              "      <td>0.954858</td>\n",
              "      <td>00:00</td>\n",
              "    </tr>\n",
              "    <tr>\n",
              "      <td>7</td>\n",
              "      <td>0.019886</td>\n",
              "      <td>0.047011</td>\n",
              "      <td>0.961236</td>\n",
              "      <td>00:00</td>\n",
              "    </tr>\n",
              "    <tr>\n",
              "      <td>8</td>\n",
              "      <td>0.018400</td>\n",
              "      <td>0.042262</td>\n",
              "      <td>0.965653</td>\n",
              "      <td>00:00</td>\n",
              "    </tr>\n",
              "    <tr>\n",
              "      <td>9</td>\n",
              "      <td>0.017524</td>\n",
              "      <td>0.038796</td>\n",
              "      <td>0.967615</td>\n",
              "      <td>00:00</td>\n",
              "    </tr>\n",
              "  </tbody>\n",
              "</table>"
            ]
          },
          "metadata": {}
        }
      ]
    },
    {
      "cell_type": "code",
      "source": [
        "dls = ImageDataLoaders.from_folder(path)\n",
        "learn = vision_learner(dls, resnet18, pretrained=False,\n",
        "                    loss_func=F.cross_entropy, metrics=accuracy)\n",
        "learn.fit_one_cycle(1, 0.1)"
      ],
      "metadata": {
        "colab": {
          "base_uri": "https://localhost:8080/",
          "height": 81
        },
        "id": "3GbI7rsk5r20",
        "outputId": "26512467-7d44-4d33-9b1b-a25f774760c8"
      },
      "execution_count": 72,
      "outputs": [
        {
          "output_type": "display_data",
          "data": {
            "text/plain": [
              "<IPython.core.display.HTML object>"
            ],
            "text/html": [
              "\n",
              "<style>\n",
              "    /* Turns off some styling */\n",
              "    progress {\n",
              "        /* gets rid of default border in Firefox and Opera. */\n",
              "        border: none;\n",
              "        /* Needs to be in here for Safari polyfill so background images work as expected. */\n",
              "        background-size: auto;\n",
              "    }\n",
              "    progress:not([value]), progress:not([value])::-webkit-progress-bar {\n",
              "        background: repeating-linear-gradient(45deg, #7e7e7e, #7e7e7e 10px, #5c5c5c 10px, #5c5c5c 20px);\n",
              "    }\n",
              "    .progress-bar-interrupted, .progress-bar-interrupted::-webkit-progress-bar {\n",
              "        background: #F44336;\n",
              "    }\n",
              "</style>\n"
            ]
          },
          "metadata": {}
        },
        {
          "output_type": "display_data",
          "data": {
            "text/plain": [
              "<IPython.core.display.HTML object>"
            ],
            "text/html": [
              "<table border=\"1\" class=\"dataframe\">\n",
              "  <thead>\n",
              "    <tr style=\"text-align: left;\">\n",
              "      <th>epoch</th>\n",
              "      <th>train_loss</th>\n",
              "      <th>valid_loss</th>\n",
              "      <th>accuracy</th>\n",
              "      <th>time</th>\n",
              "    </tr>\n",
              "  </thead>\n",
              "  <tbody>\n",
              "    <tr>\n",
              "      <td>0</td>\n",
              "      <td>0.089225</td>\n",
              "      <td>0.019134</td>\n",
              "      <td>0.996075</td>\n",
              "      <td>00:14</td>\n",
              "    </tr>\n",
              "  </tbody>\n",
              "</table>"
            ]
          },
          "metadata": {}
        }
      ]
    },
    {
      "cell_type": "code",
      "source": [],
      "metadata": {
        "id": "dKgrDcyW53gS"
      },
      "execution_count": null,
      "outputs": []
    }
  ]
}