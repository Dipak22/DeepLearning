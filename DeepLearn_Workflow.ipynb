{
  "nbformat": 4,
  "nbformat_minor": 0,
  "metadata": {
    "colab": {
      "provenance": [],
      "gpuType": "T4",
      "authorship_tag": "ABX9TyM2k20pWbN3GXxB2ny+YFKH",
      "include_colab_link": true
    },
    "kernelspec": {
      "name": "python3",
      "display_name": "Python 3"
    },
    "language_info": {
      "name": "python"
    },
    "accelerator": "GPU"
  },
  "cells": [
    {
      "cell_type": "markdown",
      "metadata": {
        "id": "view-in-github",
        "colab_type": "text"
      },
      "source": [
        "<a href=\"https://colab.research.google.com/github/Dipak22/DeepLearning/blob/master/DeepLearn_Workflow.ipynb\" target=\"_parent\"><img src=\"https://colab.research.google.com/assets/colab-badge.svg\" alt=\"Open In Colab\"/></a>"
      ]
    },
    {
      "cell_type": "code",
      "execution_count": 1,
      "metadata": {
        "id": "b9L0z-l34Osh"
      },
      "outputs": [],
      "source": [
        "import torch\n",
        "from torch import nn\n",
        "import matplotlib.pyplot as plt\n"
      ]
    },
    {
      "cell_type": "markdown",
      "source": [
        "## Data Preparation and loading\n",
        "* Get data in a numerical format\n",
        "* design model with weights, and improve the weight to solve the problems"
      ],
      "metadata": {
        "id": "QmfTqn2v5bfq"
      }
    },
    {
      "cell_type": "code",
      "source": [
        "# create a sample data\n",
        "# use a linear regression formula to make a straight line with know parameters\n",
        "weight = 0.7\n",
        "bias = 0.3\n",
        "X = torch.arange(0,1,0.02).unsqueeze(dim=1)\n",
        "\n",
        "y = weight*X + bias\n",
        "X[:10],y[:10]"
      ],
      "metadata": {
        "colab": {
          "base_uri": "https://localhost:8080/"
        },
        "id": "SRNzzDr35ZOZ",
        "outputId": "2628b7f5-7aa0-4299-bc92-c3089e5370e7"
      },
      "execution_count": 2,
      "outputs": [
        {
          "output_type": "execute_result",
          "data": {
            "text/plain": [
              "(tensor([[0.0000],\n",
              "         [0.0200],\n",
              "         [0.0400],\n",
              "         [0.0600],\n",
              "         [0.0800],\n",
              "         [0.1000],\n",
              "         [0.1200],\n",
              "         [0.1400],\n",
              "         [0.1600],\n",
              "         [0.1800]]),\n",
              " tensor([[0.3000],\n",
              "         [0.3140],\n",
              "         [0.3280],\n",
              "         [0.3420],\n",
              "         [0.3560],\n",
              "         [0.3700],\n",
              "         [0.3840],\n",
              "         [0.3980],\n",
              "         [0.4120],\n",
              "         [0.4260]]))"
            ]
          },
          "metadata": {},
          "execution_count": 2
        }
      ]
    },
    {
      "cell_type": "code",
      "source": [
        "X.shape, y.shape"
      ],
      "metadata": {
        "colab": {
          "base_uri": "https://localhost:8080/"
        },
        "id": "GZQWqdXA7Bqc",
        "outputId": "af470dd9-e7c3-48d0-f572-44e269e83606"
      },
      "execution_count": 3,
      "outputs": [
        {
          "output_type": "execute_result",
          "data": {
            "text/plain": [
              "(torch.Size([50, 1]), torch.Size([50, 1]))"
            ]
          },
          "metadata": {},
          "execution_count": 3
        }
      ]
    },
    {
      "cell_type": "markdown",
      "source": [
        "## Splitting data into training and test sets\n"
      ],
      "metadata": {
        "id": "J5-L8_sI7Z15"
      }
    },
    {
      "cell_type": "code",
      "source": [
        "#create train and test sets\n",
        "train_split = int(0.8* len(X))\n",
        "X_train, y_train =X[:train_split], y[:train_split]\n",
        "X_test , y_test = X[train_split:], y[train_split:]\n",
        "len(X_train),len(y_train), len(X_test), len(y_test)"
      ],
      "metadata": {
        "colab": {
          "base_uri": "https://localhost:8080/"
        },
        "id": "_MHvNnjl7EiX",
        "outputId": "a4e8dbef-d59f-467f-d9d1-0cb4d62fd793"
      },
      "execution_count": 4,
      "outputs": [
        {
          "output_type": "execute_result",
          "data": {
            "text/plain": [
              "(40, 40, 10, 10)"
            ]
          },
          "metadata": {},
          "execution_count": 4
        }
      ]
    },
    {
      "cell_type": "code",
      "source": [
        "def plot_predictions(train_data = X_train,\n",
        "                     train_labels = y_train,\n",
        "                     test_data = X_test,\n",
        "                     test_labels = y_test,\n",
        "                     predictions = None):\n",
        "  \"\"\"\n",
        "  Plots tytraing, test data and compares predictions\n",
        "  \"\"\"\n",
        "  plt.figure(figsize=(10,7))\n",
        "  plt.scatter(train_data, train_labels, c='b', s=4, label ='Training data')\n",
        "\n",
        "  # plot test data\n",
        "  plt.scatter(test_data, test_labels, c='g', s=4, label = 'Test data')\n",
        "\n",
        "  if predictions is not None:\n",
        "    plt.scatter(test_data, predictions, c='r', s=4, label='Predictions')\n",
        "  #show legend\n",
        "  plt.legend(prop={'size':14});"
      ],
      "metadata": {
        "id": "iH6e5lGZ7TWH"
      },
      "execution_count": 5,
      "outputs": []
    },
    {
      "cell_type": "code",
      "source": [
        "plot_predictions()"
      ],
      "metadata": {
        "colab": {
          "base_uri": "https://localhost:8080/",
          "height": 466
        },
        "id": "ewhA8cC19D4P",
        "outputId": "0c6f7dd1-7e15-4c5d-b92e-908cfa8c2a82"
      },
      "execution_count": 6,
      "outputs": [
        {
          "output_type": "display_data",
          "data": {
            "text/plain": [
              "<Figure size 1000x700 with 1 Axes>"
            ],
            "image/png": "[encoded data removed]"
          },
          "metadata": {}
        }
      ]
    },
    {
      "cell_type": "markdown",
      "source": [
        "## Build Model"
      ],
      "metadata": {
        "id": "WtsMsQvQepq_"
      }
    },
    {
      "cell_type": "code",
      "source": [
        "class LinearRegressionModel(nn.Module):\n",
        "  def __init__(self):\n",
        "    super().__init__()\n",
        "    #initialize model parameters\n",
        "    self.weights = nn.Parameter(torch.randn(1,\n",
        "                                            requires_grad=True,\n",
        "                                            dtype=torch.float))\n",
        "    self.bias = nn.Parameter(torch.randn(1,\n",
        "                                         requires_grad = True,\n",
        "                                         dtype = torch.float))\n",
        "  #forward method to define the computation of the model\n",
        "  def forward(self, x: torch.Tensor)-> torch.Tensor:\n",
        "      return self.weights*x + self.bias"
      ],
      "metadata": {
        "id": "ZmULJDjE9k0o"
      },
      "execution_count": 20,
      "outputs": []
    },
    {
      "cell_type": "markdown",
      "source": [
        "## Pytorch model building essentials\n",
        "* torch.nn -> helps create a computational graph\n",
        "* nn.Parameters -> parameters to used in the model\n",
        "* nn.Module -> base class for all nn modules, overwrite the forward method\n",
        "* torch.optim -> all optimizers are defined here\n"
      ],
      "metadata": {
        "id": "hIVapJDRiN7X"
      }
    },
    {
      "cell_type": "markdown",
      "source": [
        "## checking contents of our pytorch model"
      ],
      "metadata": {
        "id": "IEDb3LPMjnVy"
      }
    },
    {
      "cell_type": "code",
      "source": [
        "torch.manual_seed(42)\n",
        "#create an instance of the model\n",
        "model_0 = LinearRegressionModel()\n",
        "model_0"
      ],
      "metadata": {
        "colab": {
          "base_uri": "https://localhost:8080/"
        },
        "id": "MIjXN9LrhSNL",
        "outputId": "bc622033-4e77-4b16-fb99-ef042ecf33b6"
      },
      "execution_count": 21,
      "outputs": [
        {
          "output_type": "execute_result",
          "data": {
            "text/plain": [
              "LinearRegressionModel()"
            ]
          },
          "metadata": {},
          "execution_count": 21
        }
      ]
    },
    {
      "cell_type": "code",
      "source": [
        "list(model_0.parameters())"
      ],
      "metadata": {
        "colab": {
          "base_uri": "https://localhost:8080/"
        },
        "id": "a0cweGeqjyF9",
        "outputId": "3750c5bb-8b7e-4936-b8e7-207aac21ee97"
      },
      "execution_count": 22,
      "outputs": [
        {
          "output_type": "execute_result",
          "data": {
            "text/plain": [
              "[Parameter containing:\n",
              " tensor([0.3367], requires_grad=True),\n",
              " Parameter containing:\n",
              " tensor([0.1288], requires_grad=True)]"
            ]
          },
          "metadata": {},
          "execution_count": 22
        }
      ]
    },
    {
      "cell_type": "code",
      "source": [
        "model_0.state_dict()"
      ],
      "metadata": {
        "colab": {
          "base_uri": "https://localhost:8080/"
        },
        "id": "zVPMcgZnkB8g",
        "outputId": "f3e3ec0a-3679-45c1-ba1b-1caec7fe7b35"
      },
      "execution_count": 23,
      "outputs": [
        {
          "output_type": "execute_result",
          "data": {
            "text/plain": [
              "OrderedDict([('weights', tensor([0.3367])), ('bias', tensor([0.1288]))])"
            ]
          },
          "metadata": {},
          "execution_count": 23
        }
      ]
    },
    {
      "cell_type": "code",
      "source": [
        "weight, bias"
      ],
      "metadata": {
        "colab": {
          "base_uri": "https://localhost:8080/"
        },
        "id": "RGlzpGdfkqnQ",
        "outputId": "58ba67e9-cebf-4c02-f15c-51d4a563ecfa"
      },
      "execution_count": 24,
      "outputs": [
        {
          "output_type": "execute_result",
          "data": {
            "text/plain": [
              "(0.7, 0.3)"
            ]
          },
          "metadata": {},
          "execution_count": 24
        }
      ]
    },
    {
      "cell_type": "markdown",
      "source": [
        "## Make prediction using torch.inference_model\n"
      ],
      "metadata": {
        "id": "XRRGTZ_WlWd6"
      }
    },
    {
      "cell_type": "code",
      "source": [
        "with torch.inference_mode():\n",
        "  y_preds = model_0(X_test)\n",
        "\n",
        "y_preds, y_preds.shape"
      ],
      "metadata": {
        "colab": {
          "base_uri": "https://localhost:8080/"
        },
        "id": "RNKYW6d8kyYx",
        "outputId": "7ce22d30-7f8e-4a79-872e-964ba338da78"
      },
      "execution_count": 26,
      "outputs": [
        {
          "output_type": "execute_result",
          "data": {
            "text/plain": [
              "(tensor([[0.3982],\n",
              "         [0.4049],\n",
              "         [0.4116],\n",
              "         [0.4184],\n",
              "         [0.4251],\n",
              "         [0.4318],\n",
              "         [0.4386],\n",
              "         [0.4453],\n",
              "         [0.4520],\n",
              "         [0.4588]]),\n",
              " torch.Size([10, 1]))"
            ]
          },
          "metadata": {},
          "execution_count": 26
        }
      ]
    },
    {
      "cell_type": "code",
      "source": [
        "plot_predictions(predictions = y_preds)"
      ],
      "metadata": {
        "colab": {
          "base_uri": "https://localhost:8080/",
          "height": 466
        },
        "id": "wnWaOgErlsa9",
        "outputId": "2d38d066-c57d-4e96-933d-f64185c7e469"
      },
      "execution_count": 28,
      "outputs": [
        {
          "output_type": "display_data",
          "data": {
            "text/plain": [
              "<Figure size 1000x700 with 1 Axes>"
            ],
            "image/png": "[encoded data removed]"
          },
          "metadata": {}
        }
      ]
    },
    {
      "cell_type": "markdown",
      "source": [
        "## Training a machine learning model,\n",
        "optimizing the parameters of the model, to make the predictions as close to target.\n",
        "\n",
        "to mearsure the quality of the prediction , use loss functions\n",
        "\n",
        "use optimizer to adjust the model parameters to update the parameters inorder to reduce the loss"
      ],
      "metadata": {
        "id": "mylNcgWNtdl6"
      }
    },
    {
      "cell_type": "code",
      "source": [
        "#setup loss function\n",
        "loss_fn = nn.L1Loss()\n",
        "#setup optimizer(SGD)\n",
        "optimizer = torch.optim.SGD(params = model_0.parameters(),\n",
        "                            lr=0.01,\n",
        "                            )"
      ],
      "metadata": {
        "id": "lbmRbjKRmZH-"
      },
      "execution_count": 38,
      "outputs": []
    },
    {
      "cell_type": "markdown",
      "source": [
        "## Building a training loop(and testing loop) in pytorch\n",
        "\n",
        "0. loop through the data\n",
        "1. forward pass (data moving in the forward model) to make the predictions.\n",
        "2. calculate the loss\n",
        "3. optimizer zero grad\n",
        "4. loss backward  calcualte the gradients of each parameters(back propagation)\n",
        "5. optimizer step - update the parameters value(gradient descent)\n"
      ],
      "metadata": {
        "id": "sI-o8jZpxghm"
      }
    },
    {
      "cell_type": "code",
      "source": [
        "nn.MSELoss()(y_test, y_preds)"
      ],
      "metadata": {
        "colab": {
          "base_uri": "https://localhost:8080/"
        },
        "id": "23DVbPW2uNPb",
        "outputId": "4d5546fb-8250-4508-90aa-09ede605eb3e"
      },
      "execution_count": 37,
      "outputs": [
        {
          "output_type": "execute_result",
          "data": {
            "text/plain": [
              "tensor(0.2450)"
            ]
          },
          "metadata": {},
          "execution_count": 37
        }
      ]
    },
    {
      "cell_type": "code",
      "source": [
        "torch.manual_seed(42)\n",
        "epochs = 5\n",
        "epoch_count = []\n",
        "loss_values = []\n",
        "test_loss_values = []\n",
        "## Training\n",
        "# loop through the data\n",
        "for epoch in range(epochs):\n",
        "  #set model to traing mode\n",
        "  model_0.train()\n",
        "  #forward pass\n",
        "  y_pred = model_0(X_train)\n",
        "  #calcualte loss\n",
        "  loss= loss_fn(y_pred, y_train)\n",
        "  #zero grad\n",
        "  optimizer.zero_grad()\n",
        "  # perform back propagation on the loss\n",
        "  loss.backward()\n",
        "  #step the optimizer\n",
        "  optimizer.step()\n",
        "\n",
        "  #eval on test data\n",
        "  model_0.eval()\n",
        "  with torch.inference_mode():\n",
        "    test_pred = model_0(y_test)\n",
        "  test_loss = loss_fn(test_pred, y_test)\n",
        "  print(f\"Epoch: {epoch} | loss : {loss:.3f} | Test loss: {test_loss:.3f}\")\n",
        "  epoch_count.append(epoch)\n",
        "  loss_values.append(loss)\n",
        "  test_loss_values.append(test_loss)\n"
      ],
      "metadata": {
        "colab": {
          "base_uri": "https://localhost:8080/"
        },
        "id": "yqTVZZwlvDB5",
        "outputId": "c15e9cfd-5067-4c57-df59-becc44867261"
      },
      "execution_count": 88,
      "outputs": [
        {
          "output_type": "stream",
          "name": "stdout",
          "text": [
            "Epoch: 0 | loss : 0.003 | Test loss: 0.032\n",
            "Epoch: 1 | loss : 0.009 | Test loss: 0.018\n",
            "Epoch: 2 | loss : 0.003 | Test loss: 0.032\n",
            "Epoch: 3 | loss : 0.009 | Test loss: 0.018\n",
            "Epoch: 4 | loss : 0.003 | Test loss: 0.032\n"
          ]
        }
      ]
    },
    {
      "cell_type": "code",
      "source": [
        "test_loss_values"
      ],
      "metadata": {
        "colab": {
          "base_uri": "https://localhost:8080/"
        },
        "id": "sQ9Q2497_9I2",
        "outputId": "a0d4d59a-11a1-45d8-881e-a355a4772bbb"
      },
      "execution_count": 97,
      "outputs": [
        {
          "output_type": "execute_result",
          "data": {
            "text/plain": [
              "[tensor(0.0315),\n",
              " tensor(0.0182),\n",
              " tensor(0.0315),\n",
              " tensor(0.0182),\n",
              " tensor(0.0315)]"
            ]
          },
          "metadata": {},
          "execution_count": 97
        }
      ]
    },
    {
      "cell_type": "code",
      "source": [
        "plt.plot(epoch_count, torch.tensor(loss_values).numpy(),c='b', label = 'Train loss')\n",
        "plt.plot(epoch_count, test_loss_values, c='r',label='Test loss')\n",
        "plt.title('Traing and test loss')\n",
        "plt.xlabel('Epochs')\n",
        "plt.ylabel('Loss')\n"
      ],
      "metadata": {
        "colab": {
          "base_uri": "https://localhost:8080/",
          "height": 490
        },
        "id": "Ny9nsavG8jSa",
        "outputId": "eccd374c-903a-4cd3-fe0f-4ae53d922184"
      },
      "execution_count": 96,
      "outputs": [
        {
          "output_type": "execute_result",
          "data": {
            "text/plain": [
              "Text(0, 0.5, 'Loss')"
            ]
          },
          "metadata": {},
          "execution_count": 96
        },
        {
          "output_type": "display_data",
          "data": {
            "text/plain": [
              "<Figure size 640x480 with 1 Axes>"
            ],
            "image/png": "[encoded data removed]"
          },
          "metadata": {}
        }
      ]
    },
    {
      "cell_type": "code",
      "source": [
        "model_0.state_dict()"
      ],
      "metadata": {
        "colab": {
          "base_uri": "https://localhost:8080/"
        },
        "id": "6Gg_c9v85Irq",
        "outputId": "7dcead5a-bf43-4f5e-c337-0428f13543aa"
      },
      "execution_count": 86,
      "outputs": [
        {
          "output_type": "execute_result",
          "data": {
            "text/plain": [
              "OrderedDict([('weights', tensor([0.6951])), ('bias', tensor([0.2993]))])"
            ]
          },
          "metadata": {},
          "execution_count": 86
        }
      ]
    },
    {
      "cell_type": "code",
      "source": [
        "weight, bias"
      ],
      "metadata": {
        "colab": {
          "base_uri": "https://localhost:8080/"
        },
        "id": "cCGP0ie15MA7",
        "outputId": "b53bdce2-ccc6-4e65-ac6b-e5c98605a262"
      },
      "execution_count": 76,
      "outputs": [
        {
          "output_type": "execute_result",
          "data": {
            "text/plain": [
              "(0.7, 0.3)"
            ]
          },
          "metadata": {},
          "execution_count": 76
        }
      ]
    },
    {
      "cell_type": "code",
      "source": [
        "with torch.inference_mode():\n",
        "  y_preds_new = model_0(y_test)\n",
        "\n",
        "plot_predictions(predictions=y_preds_new)"
      ],
      "metadata": {
        "colab": {
          "base_uri": "https://localhost:8080/",
          "height": 466
        },
        "id": "BRR6dXMv5Pyr",
        "outputId": "254080b5-2be4-4f57-eb01-b30d70a083c0"
      },
      "execution_count": 87,
      "outputs": [
        {
          "output_type": "display_data",
          "data": {
            "text/plain": [
              "<Figure size 1000x700 with 1 Axes>"
            ],
            "image/png": "[encoded data removed]"
          },
          "metadata": {}
        }
      ]
    },
    {
      "cell_type": "markdown",
      "source": [
        "## Saving a model  in Pytorch\n",
        "1. `torch.save()` - allows to save tensor object in disk\n",
        "2. `torch.load()` - load the saved object\n",
        "3. `torch.nn.Module.load_state_dict()` - this allows to load a model's saved state dictionary.\n"
      ],
      "metadata": {
        "id": "Li4QmIaZBFc0"
      }
    },
    {
      "cell_type": "code",
      "source": [
        "#Saving our pytorch model\n",
        "from pathlib import Path\n",
        "# 1. create models directory\n",
        "MODEL_PATH = Path('models')\n",
        "MODEL_PATH.mkdir(parents = True, exist_ok=True)\n",
        "#2. create models save path\n",
        "MODEL_NAME = '01_pytorch_workflow.pth'\n",
        "MODEL_SAVE_PATH = MODEL_PATH/MODEL_NAME\n",
        "MODEL_SAVE_PATH"
      ],
      "metadata": {
        "colab": {
          "base_uri": "https://localhost:8080/"
        },
        "id": "M1hQxhrQ6Afn",
        "outputId": "eee13824-12ee-43fe-b044-97deba954227"
      },
      "execution_count": 98,
      "outputs": [
        {
          "output_type": "execute_result",
          "data": {
            "text/plain": [
              "PosixPath('models/01_pytorch_workflow.pth')"
            ]
          },
          "metadata": {},
          "execution_count": 98
        }
      ]
    },
    {
      "cell_type": "code",
      "source": [
        "torch.save(model_0.state_dict(), MODEL_SAVE_PATH)"
      ],
      "metadata": {
        "id": "hL8MtbdSCqJr"
      },
      "execution_count": 99,
      "outputs": []
    },
    {
      "cell_type": "code",
      "source": [
        "!ls -ltr models"
      ],
      "metadata": {
        "colab": {
          "base_uri": "https://localhost:8080/"
        },
        "id": "mcBs7MYQDJr8",
        "outputId": "e3e9214a-1d87-4ff0-c2db-46150efba569"
      },
      "execution_count": 102,
      "outputs": [
        {
          "output_type": "stream",
          "name": "stdout",
          "text": [
            "total 4\n",
            "-rw-r--r-- 1 root root 1568 Mar  4 16:44 01_pytorch_workflow.pth\n"
          ]
        }
      ]
    },
    {
      "cell_type": "code",
      "source": [
        "loaded_model_0 = LinearRegressionModel()\n",
        "print(loaded_model_0.state_dict())\n",
        "loaded_model_0.load_state_dict(torch.load(MODEL_SAVE_PATH))\n",
        "print(loaded_model_0.state_dict())"
      ],
      "metadata": {
        "colab": {
          "base_uri": "https://localhost:8080/"
        },
        "id": "URG9hi_TCzTY",
        "outputId": "a397b643-28bf-4753-cbf3-d0fdbfb1b929"
      },
      "execution_count": 104,
      "outputs": [
        {
          "output_type": "stream",
          "name": "stdout",
          "text": [
            "OrderedDict([('weights', tensor([-1.1229])), ('bias', tensor([-0.1863]))])\n",
            "OrderedDict([('weights', tensor([0.6990])), ('bias', tensor([0.3093]))])\n"
          ]
        },
        {
          "output_type": "stream",
          "name": "stderr",
          "text": [
            "<ipython-input-104-1ad887f5d10f>:3: FutureWarning: You are using `torch.load` with `weights_only=False` (the current default value), which uses the default pickle module implicitly. It is possible to construct malicious pickle data which will execute arbitrary code during unpickling (See https://github.com/pytorch/pytorch/blob/main/SECURITY.md#untrusted-models for more details). In a future release, the default value for `weights_only` will be flipped to `True`. This limits the functions that could be executed during unpickling. Arbitrary objects will no longer be allowed to be loaded via this mode unless they are explicitly allowlisted by the user via `torch.serialization.add_safe_globals`. We recommend you start setting `weights_only=True` for any use case where you don't have full control of the loaded file. Please open an issue on GitHub for any issues related to this experimental feature.\n",
            "  loaded_model_0.load_state_dict(torch.load(MODEL_SAVE_PATH))\n"
          ]
        }
      ]
    },
    {
      "cell_type": "markdown",
      "source": [
        "## Putting it all together\n"
      ],
      "metadata": {
        "id": "MNqHQHOXZkjW"
      }
    },
    {
      "cell_type": "code",
      "source": [
        "import torch\n",
        "from torch import nn\n",
        "import matplotlib.pyplot as plt\n"
      ],
      "metadata": {
        "id": "PpjqRvH9Zwli"
      },
      "execution_count": 1,
      "outputs": []
    },
    {
      "cell_type": "code",
      "source": [
        "device ='cuda' if torch.cuda.is_available() else 'cpu'\n"
      ],
      "metadata": {
        "id": "oDpxwSGpDFdM"
      },
      "execution_count": 2,
      "outputs": []
    },
    {
      "cell_type": "code",
      "source": [
        "device"
      ],
      "metadata": {
        "colab": {
          "base_uri": "https://localhost:8080/",
          "height": 36
        },
        "id": "l0viuz5jZs56",
        "outputId": "bf2fbcbe-e17a-4a43-a15e-694e5fc2c9d6"
      },
      "execution_count": 3,
      "outputs": [
        {
          "output_type": "execute_result",
          "data": {
            "text/plain": [
              "'cuda'"
            ],
            "application/vnd.google.colaboratory.intrinsic+json": {
              "type": "string"
            }
          },
          "metadata": {},
          "execution_count": 3
        }
      ]
    },
    {
      "cell_type": "code",
      "source": [
        "#create some data using linear regression y = mx+b\n",
        "weight =0.7\n",
        "bias = 0.1\n",
        "X = torch.arange(0,1,0.02).unsqueeze(dim=1)\n",
        "y = weight * X + bias\n",
        "X[:10], y[:10]"
      ],
      "metadata": {
        "colab": {
          "base_uri": "https://localhost:8080/"
        },
        "id": "z_5r-Uk8Z78z",
        "outputId": "382bfeb2-dc6b-493f-dcbc-4ce61d7f5e1e"
      },
      "execution_count": 5,
      "outputs": [
        {
          "output_type": "execute_result",
          "data": {
            "text/plain": [
              "(tensor([[0.0000],\n",
              "         [0.0200],\n",
              "         [0.0400],\n",
              "         [0.0600],\n",
              "         [0.0800],\n",
              "         [0.1000],\n",
              "         [0.1200],\n",
              "         [0.1400],\n",
              "         [0.1600],\n",
              "         [0.1800]]),\n",
              " tensor([[0.1000],\n",
              "         [0.1140],\n",
              "         [0.1280],\n",
              "         [0.1420],\n",
              "         [0.1560],\n",
              "         [0.1700],\n",
              "         [0.1840],\n",
              "         [0.1980],\n",
              "         [0.2120],\n",
              "         [0.2260]]))"
            ]
          },
          "metadata": {},
          "execution_count": 5
        }
      ]
    },
    {
      "cell_type": "code",
      "source": [
        "#split data\n",
        "train_split =int(0.8*len(X))\n",
        "X_train, y_train = X[:train_split],y[:train_split]\n",
        "X_test, y_test = X[train_split:], y[train_split:]\n",
        "len(X_train), len(y_train), len(X_test), len(y_test)"
      ],
      "metadata": {
        "colab": {
          "base_uri": "https://localhost:8080/"
        },
        "id": "WxekpN3qaau2",
        "outputId": "415842ed-6dba-4b3d-9c9c-aeb981d74c23"
      },
      "execution_count": 6,
      "outputs": [
        {
          "output_type": "execute_result",
          "data": {
            "text/plain": [
              "(40, 40, 10, 10)"
            ]
          },
          "metadata": {},
          "execution_count": 6
        }
      ]
    },
    {
      "cell_type": "code",
      "source": [
        "def plot_predictions(train_data = X_train,\n",
        "                     train_labels = y_train,\n",
        "                     test_data = X_test,\n",
        "                     test_labels = y_test,\n",
        "                     predictions = None):\n",
        "  \"\"\"\n",
        "  Plots tytraing, test data and compares predictions\n",
        "  \"\"\"\n",
        "  plt.figure(figsize=(10,7))\n",
        "  plt.scatter(train_data, train_labels, c='b', s=4, label ='Training data')\n",
        "\n",
        "  # plot test data\n",
        "  plt.scatter(test_data, test_labels, c='g', s=4, label = 'Test data')\n",
        "\n",
        "  if predictions is not None:\n",
        "    plt.scatter(test_data, predictions, c='r', s=4, label='Predictions')\n",
        "  #show legend\n",
        "  plt.legend(prop={'size':14});"
      ],
      "metadata": {
        "id": "2cVmNTtYazXf"
      },
      "execution_count": 7,
      "outputs": []
    },
    {
      "cell_type": "code",
      "source": [
        "plot_predictions(X_train,y_train, X_test, y_test)"
      ],
      "metadata": {
        "colab": {
          "base_uri": "https://localhost:8080/",
          "height": 466
        },
        "id": "JDmJ1jyga3di",
        "outputId": "671bd3fa-339e-4f35-e26a-8b4d98344411"
      },
      "execution_count": 8,
      "outputs": [
        {
          "output_type": "display_data",
          "data": {
            "text/plain": [
              "<Figure size 1000x700 with 1 Axes>"
            ],
            "image/png": "[encoded data removed]"
          },
          "metadata": {}
        }
      ]
    },
    {
      "cell_type": "code",
      "source": [
        "## Build pytorch linear model\n",
        "class LinearRegressionModelV2(nn.Module):\n",
        "  def __init__(self):\n",
        "    super().__init__()\n",
        "    #use nn.Linear()\n",
        "    self.linear_layer = nn.Linear(in_features=1, out_features=1)\n",
        "  def forward(self,x: torch.Tensor) -> torch.Tensor:\n",
        "    return self.linear_layer(x)\n",
        "\n"
      ],
      "metadata": {
        "id": "DKWDC4tZa7zr"
      },
      "execution_count": 15,
      "outputs": []
    },
    {
      "cell_type": "code",
      "source": [
        "  #set manual seed\n",
        "  torch.manual_seed(42)\n",
        "  model_1 = LinearRegressionModelV2()\n",
        "  model_1.state_dict()"
      ],
      "metadata": {
        "colab": {
          "base_uri": "https://localhost:8080/"
        },
        "id": "TF_gbVmLcctb",
        "outputId": "3bbc912c-602f-4c4e-fcb9-e87c7f8a88bb"
      },
      "execution_count": 17,
      "outputs": [
        {
          "output_type": "execute_result",
          "data": {
            "text/plain": [
              "OrderedDict([('linear_layer.weight', tensor([[0.7645]])),\n",
              "             ('linear_layer.bias', tensor([0.8300]))])"
            ]
          },
          "metadata": {},
          "execution_count": 17
        }
      ]
    },
    {
      "cell_type": "code",
      "source": [
        "#set model to use target device\n",
        "next(model_1.parameters()).device"
      ],
      "metadata": {
        "colab": {
          "base_uri": "https://localhost:8080/"
        },
        "id": "U41RVyEEckg1",
        "outputId": "f8ccb077-ebe2-4936-d6c0-bd418c176f8a"
      },
      "execution_count": 20,
      "outputs": [
        {
          "output_type": "execute_result",
          "data": {
            "text/plain": [
              "device(type='cpu')"
            ]
          },
          "metadata": {},
          "execution_count": 20
        }
      ]
    },
    {
      "cell_type": "code",
      "source": [
        "model_1.to(device)"
      ],
      "metadata": {
        "colab": {
          "base_uri": "https://localhost:8080/"
        },
        "id": "9mt3x2v4dcI1",
        "outputId": "a10492a6-048a-4ccc-d994-3f7f00b1dc18"
      },
      "execution_count": 21,
      "outputs": [
        {
          "output_type": "execute_result",
          "data": {
            "text/plain": [
              "LinearRegressionModelV2(\n",
              "  (linear_layer): Linear(in_features=1, out_features=1, bias=True)\n",
              ")"
            ]
          },
          "metadata": {},
          "execution_count": 21
        }
      ]
    },
    {
      "cell_type": "code",
      "source": [
        "next(model_1.parameters()).device"
      ],
      "metadata": {
        "colab": {
          "base_uri": "https://localhost:8080/"
        },
        "id": "mm5e3r18dnIO",
        "outputId": "6844f86f-fb3b-4196-f85a-462e06313103"
      },
      "execution_count": 22,
      "outputs": [
        {
          "output_type": "execute_result",
          "data": {
            "text/plain": [
              "device(type='cuda', index=0)"
            ]
          },
          "metadata": {},
          "execution_count": 22
        }
      ]
    },
    {
      "cell_type": "markdown",
      "source": [
        "## Training"
      ],
      "metadata": {
        "id": "6oV6LEwkdvmX"
      }
    },
    {
      "cell_type": "code",
      "source": [
        "loss_fn = nn.L1Loss()\n",
        "optimizer = torch.optim.SGD(params= model_1.parameters(),\n",
        "                            lr=0.01)"
      ],
      "metadata": {
        "id": "tUsXSQ-Sdo1x"
      },
      "execution_count": 23,
      "outputs": []
    },
    {
      "cell_type": "code",
      "source": [
        "#training loop\n",
        "torch.manual_seed(seed=42)\n",
        "epochs = 200\n",
        "#put data on target device\n",
        "X_train = X_train.to(device=device)\n",
        "y_train = y_train.to(device=device)\n",
        "X_test = X_test.to(device=device)\n",
        "y_test = y_test.to(device=device)\n",
        "for epoch in range(epochs):\n",
        "  model_1.train()\n",
        "  #forward pass\n",
        "  y_pred = model_1(X_train)\n",
        "  #calculate loss\n",
        "  loss = loss_fn(y_pred, y_train)\n",
        "  #optimizer zero grad\n",
        "  optimizer.zero_grad()\n",
        "  #perform back propagation\n",
        "  loss.backward()\n",
        "  #optimizer step\n",
        "  optimizer.step()\n",
        "\n",
        "  ##Testing\n",
        "  model_1.eval()\n",
        "  with torch.inference_mode():\n",
        "    test_pred = model_1(X_test)\n",
        "    test_loss = loss_fn(test_pred, y_test)\n",
        "  if epoch%10==0:\n",
        "    print(f\"Epoch : {epoch} | train loss : {loss:.2f} | test loss : {test_loss:.2f}\")"
      ],
      "metadata": {
        "colab": {
          "base_uri": "https://localhost:8080/"
        },
        "id": "bCHWkhpPeENb",
        "outputId": "4338f8c4-cf07-4329-b251-5b740e8da8de"
      },
      "execution_count": 25,
      "outputs": [
        {
          "output_type": "stream",
          "name": "stdout",
          "text": [
            "Epoch : 0 | train loss : 0.76 | test loss : 0.77\n",
            "Epoch : 10 | train loss : 0.64 | test loss : 0.64\n",
            "Epoch : 20 | train loss : 0.52 | test loss : 0.50\n",
            "Epoch : 30 | train loss : 0.41 | test loss : 0.37\n",
            "Epoch : 40 | train loss : 0.29 | test loss : 0.24\n",
            "Epoch : 50 | train loss : 0.18 | test loss : 0.10\n",
            "Epoch : 60 | train loss : 0.06 | test loss : 0.03\n",
            "Epoch : 70 | train loss : 0.04 | test loss : 0.07\n",
            "Epoch : 80 | train loss : 0.03 | test loss : 0.07\n",
            "Epoch : 90 | train loss : 0.03 | test loss : 0.07\n",
            "Epoch : 100 | train loss : 0.03 | test loss : 0.06\n",
            "Epoch : 110 | train loss : 0.02 | test loss : 0.05\n",
            "Epoch : 120 | train loss : 0.02 | test loss : 0.04\n",
            "Epoch : 130 | train loss : 0.02 | test loss : 0.03\n",
            "Epoch : 140 | train loss : 0.01 | test loss : 0.03\n",
            "Epoch : 150 | train loss : 0.01 | test loss : 0.02\n",
            "Epoch : 160 | train loss : 0.00 | test loss : 0.01\n",
            "Epoch : 170 | train loss : 0.00 | test loss : 0.01\n",
            "Epoch : 180 | train loss : 0.00 | test loss : 0.01\n",
            "Epoch : 190 | train loss : 0.00 | test loss : 0.01\n"
          ]
        }
      ]
    },
    {
      "cell_type": "code",
      "source": [
        "model_1.state_dict()"
      ],
      "metadata": {
        "colab": {
          "base_uri": "https://localhost:8080/"
        },
        "id": "nAXthrzkfPxo",
        "outputId": "9b60f38b-2376-4b8d-d1d2-2a50a57c7ba5"
      },
      "execution_count": 27,
      "outputs": [
        {
          "output_type": "execute_result",
          "data": {
            "text/plain": [
              "OrderedDict([('linear_layer.weight', tensor([[0.6919]], device='cuda:0')),\n",
              "             ('linear_layer.bias', tensor([0.0995], device='cuda:0'))])"
            ]
          },
          "metadata": {},
          "execution_count": 27
        }
      ]
    },
    {
      "cell_type": "code",
      "source": [
        "with torch.inference_mode():\n",
        "  y_preds = model_1(X_test)\n",
        "\n",
        "plot_predictions(predictions=y_preds.cpu().numpy())"
      ],
      "metadata": {
        "colab": {
          "base_uri": "https://localhost:8080/",
          "height": 466
        },
        "id": "QH4_1rv0gAcQ",
        "outputId": "fc3ddc03-4df6-4115-9f2a-2e3d3e7f723e"
      },
      "execution_count": 30,
      "outputs": [
        {
          "output_type": "display_data",
          "data": {
            "text/plain": [
              "<Figure size 1000x700 with 1 Axes>"
            ],
            "image/png": "[encoded data removed]"
          },
          "metadata": {}
        }
      ]
    },
    {
      "cell_type": "code",
      "source": [
        "from pathlib import Path\n",
        "MODEL_PATH  = Path('models')\n",
        "MODEL_PATH.mkdir(parents=True, exist_ok=True)\n",
        "MODEL_NAME ='01_pytorch_workflow_model_1.pth'\n",
        "MODEL_SAVE_PATH = MODEL_PATH/MODEL_NAME\n",
        "MODEL_SAVE_PATH"
      ],
      "metadata": {
        "colab": {
          "base_uri": "https://localhost:8080/"
        },
        "id": "8R-FFo4rgSja",
        "outputId": "5ba1a42b-80fe-4a43-cf4f-2107bf0aab0b"
      },
      "execution_count": 31,
      "outputs": [
        {
          "output_type": "execute_result",
          "data": {
            "text/plain": [
              "PosixPath('models/01_pytorch_workflow_model_1.pth')"
            ]
          },
          "metadata": {},
          "execution_count": 31
        }
      ]
    },
    {
      "cell_type": "code",
      "source": [
        "torch.save(f=MODEL_SAVE_PATH, obj=model_1.state_dict())"
      ],
      "metadata": {
        "id": "6piWWrf4hJkl"
      },
      "execution_count": 32,
      "outputs": []
    },
    {
      "cell_type": "code",
      "source": [
        "loaded_model_1 = LinearRegressionModelV2()\n",
        "print(loaded_model_1.state_dict())\n",
        "loaded_model_1.load_state_dict(torch.load(MODEL_SAVE_PATH))\n",
        "print(loaded_model_1.state_dict())"
      ],
      "metadata": {
        "colab": {
          "base_uri": "https://localhost:8080/"
        },
        "id": "Z4yRm5XohU_h",
        "outputId": "a1f49882-54e8-4a80-a639-8c690afe6074"
      },
      "execution_count": 33,
      "outputs": [
        {
          "output_type": "stream",
          "name": "stdout",
          "text": [
            "OrderedDict([('linear_layer.weight', tensor([[0.7645]])), ('linear_layer.bias', tensor([0.8300]))])\n",
            "OrderedDict([('linear_layer.weight', tensor([[0.6919]])), ('linear_layer.bias', tensor([0.0995]))])\n"
          ]
        },
        {
          "output_type": "stream",
          "name": "stderr",
          "text": [
            "<ipython-input-33-f8825fd83da4>:3: FutureWarning: You are using `torch.load` with `weights_only=False` (the current default value), which uses the default pickle module implicitly. It is possible to construct malicious pickle data which will execute arbitrary code during unpickling (See https://github.com/pytorch/pytorch/blob/main/SECURITY.md#untrusted-models for more details). In a future release, the default value for `weights_only` will be flipped to `True`. This limits the functions that could be executed during unpickling. Arbitrary objects will no longer be allowed to be loaded via this mode unless they are explicitly allowlisted by the user via `torch.serialization.add_safe_globals`. We recommend you start setting `weights_only=True` for any use case where you don't have full control of the loaded file. Please open an issue on GitHub for any issues related to this experimental feature.\n",
            "  loaded_model_1.load_state_dict(torch.load(MODEL_SAVE_PATH))\n"
          ]
        }
      ]
    },
    {
      "cell_type": "code",
      "source": [
        "with torch.inference_mode():\n",
        "  y_preds = loaded_model_1(X_test.cpu())\n",
        "\n",
        "plot_predictions(predictions=y_preds.cpu().numpy())"
      ],
      "metadata": {
        "colab": {
          "base_uri": "https://localhost:8080/",
          "height": 466
        },
        "id": "zQCOZVe1hiAS",
        "outputId": "4e32382f-a5ba-4e38-d0f6-bdbfa57c135f"
      },
      "execution_count": 37,
      "outputs": [
        {
          "output_type": "display_data",
          "data": {
            "text/plain": [
              "<Figure size 1000x700 with 1 Axes>"
            ],
            "image/png": "[encoded data removed]"
          },
          "metadata": {}
        }
      ]
    },
    {
      "cell_type": "code",
      "source": [
        "next(loaded_model_1.parameters()).device"
      ],
      "metadata": {
        "colab": {
          "base_uri": "https://localhost:8080/"
        },
        "id": "Vbt79NFbhmPp",
        "outputId": "3b7393ec-a210-46c6-f315-fdc669b4b344"
      },
      "execution_count": 35,
      "outputs": [
        {
          "output_type": "execute_result",
          "data": {
            "text/plain": [
              "device(type='cpu')"
            ]
          },
          "metadata": {},
          "execution_count": 35
        }
      ]
    },
    {
      "cell_type": "code",
      "source": [
        "X_test.device"
      ],
      "metadata": {
        "colab": {
          "base_uri": "https://localhost:8080/"
        },
        "id": "_PmZKuKqhwax",
        "outputId": "0cf9badb-5403-42dc-da7c-46d2845d790b"
      },
      "execution_count": 38,
      "outputs": [
        {
          "output_type": "execute_result",
          "data": {
            "text/plain": [
              "device(type='cuda', index=0)"
            ]
          },
          "metadata": {},
          "execution_count": 38
        }
      ]
    },
    {
      "cell_type": "code",
      "source": [],
      "metadata": {
        "id": "JqP7HzK4hyjx"
      },
      "execution_count": null,
      "outputs": []
    }
  ]
}