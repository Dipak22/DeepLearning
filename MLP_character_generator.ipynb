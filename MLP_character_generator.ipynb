{
  "nbformat": 4,
  "nbformat_minor": 0,
  "metadata": {
    "colab": {
      "provenance": [],
      "authorship_tag": "ABX9TyMZ0CM91B0se5rGqPBN4Ed7",
      "include_colab_link": true
    },
    "kernelspec": {
      "name": "python3",
      "display_name": "Python 3"
    },
    "language_info": {
      "name": "python"
    },
    "widgets": {
      "application/vnd.jupyter.widget-state+json": {
        "8d1d3a2e19834c709b442edf9a9de194": {
          "model_module": "@jupyter-widgets/controls",
          "model_name": "HBoxModel",
          "model_module_version": "1.5.0",
          "state": {
            "_dom_classes": [],
            "_model_module": "@jupyter-widgets/controls",
            "_model_module_version": "1.5.0",
            "_model_name": "HBoxModel",
            "_view_count": null,
            "_view_module": "@jupyter-widgets/controls",
            "_view_module_version": "1.5.0",
            "_view_name": "HBoxView",
            "box_style": "",
            "children": [
              "IPY_MODEL_167e42e560db447a92a24fa655632f45",
              "IPY_MODEL_26b5bd81a3204b958993182f92307615",
              "IPY_MODEL_0b42a0c1ca7c494db945205f2c72b38b"
            ],
            "layout": "IPY_MODEL_91e56748005d4fa7b0212e54e3047b9a"
          }
        },
        "167e42e560db447a92a24fa655632f45": {
          "model_module": "@jupyter-widgets/controls",
          "model_name": "HTMLModel",
          "model_module_version": "1.5.0",
          "state": {
            "_dom_classes": [],
            "_model_module": "@jupyter-widgets/controls",
            "_model_module_version": "1.5.0",
            "_model_name": "HTMLModel",
            "_view_count": null,
            "_view_module": "@jupyter-widgets/controls",
            "_view_module_version": "1.5.0",
            "_view_name": "HTMLView",
            "description": "",
            "description_tooltip": null,
            "layout": "IPY_MODEL_9902446e01da47d7b1ea863d8b543fd2",
            "placeholder": "​",
            "style": "IPY_MODEL_63bf9e494f904eb08c4f207065bab736",
            "value": "100%"
          }
        },
        "26b5bd81a3204b958993182f92307615": {
          "model_module": "@jupyter-widgets/controls",
          "model_name": "FloatProgressModel",
          "model_module_version": "1.5.0",
          "state": {
            "_dom_classes": [],
            "_model_module": "@jupyter-widgets/controls",
            "_model_module_version": "1.5.0",
            "_model_name": "FloatProgressModel",
            "_view_count": null,
            "_view_module": "@jupyter-widgets/controls",
            "_view_module_version": "1.5.0",
            "_view_name": "ProgressView",
            "bar_style": "success",
            "description": "",
            "description_tooltip": null,
            "layout": "IPY_MODEL_b6c06675bffd4a55b5159b456c2acf9a",
            "max": 30,
            "min": 0,
            "orientation": "horizontal",
            "style": "IPY_MODEL_ecda4785ed89469a9917ce11eba4df96",
            "value": 30
          }
        },
        "0b42a0c1ca7c494db945205f2c72b38b": {
          "model_module": "@jupyter-widgets/controls",
          "model_name": "HTMLModel",
          "model_module_version": "1.5.0",
          "state": {
            "_dom_classes": [],
            "_model_module": "@jupyter-widgets/controls",
            "_model_module_version": "1.5.0",
            "_model_name": "HTMLModel",
            "_view_count": null,
            "_view_module": "@jupyter-widgets/controls",
            "_view_module_version": "1.5.0",
            "_view_name": "HTMLView",
            "description": "",
            "description_tooltip": null,
            "layout": "IPY_MODEL_3ee0ba593df74592b8a9b1a519601ebf",
            "placeholder": "​",
            "style": "IPY_MODEL_dd2598792f7e427abcaf2bc2e6739928",
            "value": " 30/30 [02:20&lt;00:00,  4.64s/it]"
          }
        },
        "91e56748005d4fa7b0212e54e3047b9a": {
          "model_module": "@jupyter-widgets/base",
          "model_name": "LayoutModel",
          "model_module_version": "1.2.0",
          "state": {
            "_model_module": "@jupyter-widgets/base",
            "_model_module_version": "1.2.0",
            "_model_name": "LayoutModel",
            "_view_count": null,
            "_view_module": "@jupyter-widgets/base",
            "_view_module_version": "1.2.0",
            "_view_name": "LayoutView",
            "align_content": null,
            "align_items": null,
            "align_self": null,
            "border": null,
            "bottom": null,
            "display": null,
            "flex": null,
            "flex_flow": null,
            "grid_area": null,
            "grid_auto_columns": null,
            "grid_auto_flow": null,
            "grid_auto_rows": null,
            "grid_column": null,
            "grid_gap": null,
            "grid_row": null,
            "grid_template_areas": null,
            "grid_template_columns": null,
            "grid_template_rows": null,
            "height": null,
            "justify_content": null,
            "justify_items": null,
            "left": null,
            "margin": null,
            "max_height": null,
            "max_width": null,
            "min_height": null,
            "min_width": null,
            "object_fit": null,
            "object_position": null,
            "order": null,
            "overflow": null,
            "overflow_x": null,
            "overflow_y": null,
            "padding": null,
            "right": null,
            "top": null,
            "visibility": null,
            "width": null
          }
        },
        "9902446e01da47d7b1ea863d8b543fd2": {
          "model_module": "@jupyter-widgets/base",
          "model_name": "LayoutModel",
          "model_module_version": "1.2.0",
          "state": {
            "_model_module": "@jupyter-widgets/base",
            "_model_module_version": "1.2.0",
            "_model_name": "LayoutModel",
            "_view_count": null,
            "_view_module": "@jupyter-widgets/base",
            "_view_module_version": "1.2.0",
            "_view_name": "LayoutView",
            "align_content": null,
            "align_items": null,
            "align_self": null,
            "border": null,
            "bottom": null,
            "display": null,
            "flex": null,
            "flex_flow": null,
            "grid_area": null,
            "grid_auto_columns": null,
            "grid_auto_flow": null,
            "grid_auto_rows": null,
            "grid_column": null,
            "grid_gap": null,
            "grid_row": null,
            "grid_template_areas": null,
            "grid_template_columns": null,
            "grid_template_rows": null,
            "height": null,
            "justify_content": null,
            "justify_items": null,
            "left": null,
            "margin": null,
            "max_height": null,
            "max_width": null,
            "min_height": null,
            "min_width": null,
            "object_fit": null,
            "object_position": null,
            "order": null,
            "overflow": null,
            "overflow_x": null,
            "overflow_y": null,
            "padding": null,
            "right": null,
            "top": null,
            "visibility": null,
            "width": null
          }
        },
        "63bf9e494f904eb08c4f207065bab736": {
          "model_module": "@jupyter-widgets/controls",
          "model_name": "DescriptionStyleModel",
          "model_module_version": "1.5.0",
          "state": {
            "_model_module": "@jupyter-widgets/controls",
            "_model_module_version": "1.5.0",
            "_model_name": "DescriptionStyleModel",
            "_view_count": null,
            "_view_module": "@jupyter-widgets/base",
            "_view_module_version": "1.2.0",
            "_view_name": "StyleView",
            "description_width": ""
          }
        },
        "b6c06675bffd4a55b5159b456c2acf9a": {
          "model_module": "@jupyter-widgets/base",
          "model_name": "LayoutModel",
          "model_module_version": "1.2.0",
          "state": {
            "_model_module": "@jupyter-widgets/base",
            "_model_module_version": "1.2.0",
            "_model_name": "LayoutModel",
            "_view_count": null,
            "_view_module": "@jupyter-widgets/base",
            "_view_module_version": "1.2.0",
            "_view_name": "LayoutView",
            "align_content": null,
            "align_items": null,
            "align_self": null,
            "border": null,
            "bottom": null,
            "display": null,
            "flex": null,
            "flex_flow": null,
            "grid_area": null,
            "grid_auto_columns": null,
            "grid_auto_flow": null,
            "grid_auto_rows": null,
            "grid_column": null,
            "grid_gap": null,
            "grid_row": null,
            "grid_template_areas": null,
            "grid_template_columns": null,
            "grid_template_rows": null,
            "height": null,
            "justify_content": null,
            "justify_items": null,
            "left": null,
            "margin": null,
            "max_height": null,
            "max_width": null,
            "min_height": null,
            "min_width": null,
            "object_fit": null,
            "object_position": null,
            "order": null,
            "overflow": null,
            "overflow_x": null,
            "overflow_y": null,
            "padding": null,
            "right": null,
            "top": null,
            "visibility": null,
            "width": null
          }
        },
        "ecda4785ed89469a9917ce11eba4df96": {
          "model_module": "@jupyter-widgets/controls",
          "model_name": "ProgressStyleModel",
          "model_module_version": "1.5.0",
          "state": {
            "_model_module": "@jupyter-widgets/controls",
            "_model_module_version": "1.5.0",
            "_model_name": "ProgressStyleModel",
            "_view_count": null,
            "_view_module": "@jupyter-widgets/base",
            "_view_module_version": "1.2.0",
            "_view_name": "StyleView",
            "bar_color": null,
            "description_width": ""
          }
        },
        "3ee0ba593df74592b8a9b1a519601ebf": {
          "model_module": "@jupyter-widgets/base",
          "model_name": "LayoutModel",
          "model_module_version": "1.2.0",
          "state": {
            "_model_module": "@jupyter-widgets/base",
            "_model_module_version": "1.2.0",
            "_model_name": "LayoutModel",
            "_view_count": null,
            "_view_module": "@jupyter-widgets/base",
            "_view_module_version": "1.2.0",
            "_view_name": "LayoutView",
            "align_content": null,
            "align_items": null,
            "align_self": null,
            "border": null,
            "bottom": null,
            "display": null,
            "flex": null,
            "flex_flow": null,
            "grid_area": null,
            "grid_auto_columns": null,
            "grid_auto_flow": null,
            "grid_auto_rows": null,
            "grid_column": null,
            "grid_gap": null,
            "grid_row": null,
            "grid_template_areas": null,
            "grid_template_columns": null,
            "grid_template_rows": null,
            "height": null,
            "justify_content": null,
            "justify_items": null,
            "left": null,
            "margin": null,
            "max_height": null,
            "max_width": null,
            "min_height": null,
            "min_width": null,
            "object_fit": null,
            "object_position": null,
            "order": null,
            "overflow": null,
            "overflow_x": null,
            "overflow_y": null,
            "padding": null,
            "right": null,
            "top": null,
            "visibility": null,
            "width": null
          }
        },
        "dd2598792f7e427abcaf2bc2e6739928": {
          "model_module": "@jupyter-widgets/controls",
          "model_name": "DescriptionStyleModel",
          "model_module_version": "1.5.0",
          "state": {
            "_model_module": "@jupyter-widgets/controls",
            "_model_module_version": "1.5.0",
            "_model_name": "DescriptionStyleModel",
            "_view_count": null,
            "_view_module": "@jupyter-widgets/base",
            "_view_module_version": "1.2.0",
            "_view_name": "StyleView",
            "description_width": ""
          }
        }
      }
    }
  },
  "cells": [
    {
      "cell_type": "markdown",
      "metadata": {
        "id": "view-in-github",
        "colab_type": "text"
      },
      "source": [
        "<a href=\"https://colab.research.google.com/github/Dipak22/DeepLearning/blob/master/MLP_character_generator.ipynb\" target=\"_parent\"><img src=\"https://colab.research.google.com/assets/colab-badge.svg\" alt=\"Open In Colab\"/></a>"
      ]
    },
    {
      "cell_type": "code",
      "execution_count": 1,
      "metadata": {
        "id": "KHkq-w_4U-lm"
      },
      "outputs": [],
      "source": [
        "import requests\n",
        "import torch\n",
        "\n",
        "with open('names.txt','wb') as f:\n",
        "  content = requests.get('https://github.com/karpathy/makemore/raw/master/names.txt')\n",
        "  f.write(content.content)"
      ]
    },
    {
      "cell_type": "code",
      "source": [
        "words = open('names.txt','r').read().splitlines()\n",
        "len(words)"
      ],
      "metadata": {
        "colab": {
          "base_uri": "https://localhost:8080/"
        },
        "id": "VSSsWS9-VCOa",
        "outputId": "93723ef0-ad89-4482-f826-18bd2eb5e393"
      },
      "execution_count": 12,
      "outputs": [
        {
          "output_type": "execute_result",
          "data": {
            "text/plain": [
              "32033"
            ]
          },
          "metadata": {},
          "execution_count": 12
        }
      ]
    },
    {
      "cell_type": "code",
      "source": [
        "chars = sorted(list(set(''.join(words))))\n"
      ],
      "metadata": {
        "id": "Sb4pxDMKVIW7"
      },
      "execution_count": 13,
      "outputs": []
    },
    {
      "cell_type": "code",
      "source": [
        "stoi = {s:i+1 for i,s in enumerate(chars)}\n",
        "stoi['.'] =0\n",
        "itos = {i: c for c,i in stoi.items()}\n",
        "itos"
      ],
      "metadata": {
        "colab": {
          "base_uri": "https://localhost:8080/"
        },
        "collapsed": true,
        "id": "JovyZYZsVgKe",
        "outputId": "1b0d74e5-6998-4830-ea89-36b30e15e7eb"
      },
      "execution_count": 14,
      "outputs": [
        {
          "output_type": "execute_result",
          "data": {
            "text/plain": [
              "{1: 'a',\n",
              " 2: 'b',\n",
              " 3: 'c',\n",
              " 4: 'd',\n",
              " 5: 'e',\n",
              " 6: 'f',\n",
              " 7: 'g',\n",
              " 8: 'h',\n",
              " 9: 'i',\n",
              " 10: 'j',\n",
              " 11: 'k',\n",
              " 12: 'l',\n",
              " 13: 'm',\n",
              " 14: 'n',\n",
              " 15: 'o',\n",
              " 16: 'p',\n",
              " 17: 'q',\n",
              " 18: 'r',\n",
              " 19: 's',\n",
              " 20: 't',\n",
              " 21: 'u',\n",
              " 22: 'v',\n",
              " 23: 'w',\n",
              " 24: 'x',\n",
              " 25: 'y',\n",
              " 26: 'z',\n",
              " 0: '.'}"
            ]
          },
          "metadata": {},
          "execution_count": 14
        }
      ]
    },
    {
      "cell_type": "code",
      "source": [
        "#create the dataset for the MLP model\n",
        "def build_dataset(words):\n",
        "  context_length = 3\n",
        "  xs = []\n",
        "  ys = []\n",
        "  for word in words:\n",
        "    context = [0]*3\n",
        "    for c in word+'.':\n",
        "      xs.append(context)\n",
        "      ix = stoi[c]\n",
        "      ys.append(ix)\n",
        "      #print(f\"input {''.join(itos[i] for i in context)} output = {c}\")\n",
        "      context = context[1:] + [ix]\n",
        "  X = torch.tensor(xs)\n",
        "  y = torch.tensor(ys)\n",
        "  return X,y"
      ],
      "metadata": {
        "collapsed": true,
        "id": "Ldh9XetUWAMH"
      },
      "execution_count": 61,
      "outputs": []
    },
    {
      "cell_type": "code",
      "source": [
        "#create train , val and test dataset\n",
        "import random\n",
        "random.seed(42)\n",
        "random.shuffle(words)\n",
        "\n",
        "n1 = int(0.8 * len(words))\n",
        "n2 = int(0.9 * len(words))\n",
        "X_train, y_train = build_dataset(words[:n1])\n",
        "X_val, y_val = build_dataset(words[n1:n2])\n",
        "X_test, y_test = build_dataset(words[n2:])\n",
        "print(f\" Train data shapes {X_train.shape} {y_train.shape}\")\n",
        "print(f\" Validation data shapes {X_val.shape} {y_val.shape}\")\n",
        "print(f\" Test data shapes {X_test.shape} {y_test.shape}\")"
      ],
      "metadata": {
        "colab": {
          "base_uri": "https://localhost:8080/"
        },
        "id": "iux8jX1aq_cE",
        "outputId": "ea2e312f-dcc7-4484-b8c7-8a306161a6ef"
      },
      "execution_count": 62,
      "outputs": [
        {
          "output_type": "stream",
          "name": "stdout",
          "text": [
            " Train data shapes torch.Size([182437, 3]) torch.Size([182437])\n",
            " Validation data shapes torch.Size([22781, 3]) torch.Size([22781])\n",
            " Test data shapes torch.Size([22928, 3]) torch.Size([22928])\n"
          ]
        }
      ]
    },
    {
      "cell_type": "code",
      "source": [
        "from torch import nn\n",
        "import torch.nn.functional as F"
      ],
      "metadata": {
        "id": "jeaz3cFWum8v"
      },
      "execution_count": 63,
      "outputs": []
    },
    {
      "cell_type": "code",
      "source": [
        "# define the MLP model\n",
        "class MLPModel(nn.Module):\n",
        "  def __init__(self,vocab_size = 27,embedding_size = 2, context_length =3, hidden_units =100, output_shape= 27):\n",
        "    super().__init__()\n",
        "    #Embedding layer\n",
        "    self.embedding = nn.Embedding(vocab_size, embedding_size)\n",
        "    #Parameters\n",
        "    self.W1 = nn.Parameter(torch.randn((context_length * embedding_size,hidden_units)))\n",
        "    self.b1 = nn.Parameter(torch.randn(hidden_units))\n",
        "    self.W2 = nn.Parameter(torch.randn((hidden_units, output_shape)))\n",
        "    self.b2 = nn.Parameter(torch.randn(output_shape))\n",
        "  def forward(self,X):\n",
        "    emb = self.embedding(X)\n",
        "    h = torch.tanh(emb.view(X.shape[0], -1)@ self.W1 + b1)\n",
        "    logits = h@ W2 + b2\n",
        "    return logits"
      ],
      "metadata": {
        "id": "OOGekzwJwNMx"
      },
      "execution_count": 84,
      "outputs": []
    },
    {
      "cell_type": "code",
      "source": [
        "# create Dataloaders\n",
        "from torch.utils.data import TensorDataset, DataLoader"
      ],
      "metadata": {
        "id": "dv2a26Lq3PQ6"
      },
      "execution_count": 66,
      "outputs": []
    },
    {
      "cell_type": "code",
      "source": [
        "train_dataset = TensorDataset(X_train, y_train)\n",
        "train_dataloader = DataLoader(dataset=train_dataset, batch_size=32, shuffle=True)\n",
        "for batch_X, batch_y in train_dataloader:\n",
        "    print(\"Batch X shape:\", batch_X.shape)  # (32, 3)\n",
        "    print(\"Batch y shape:\", batch_y.shape)  # (32,)\n",
        "    break  # Only process the first batch for demonstration\n",
        "val_dataset = TensorDataset(X_val, y_val)\n",
        "val_dataloader = DataLoader(dataset=val_dataset, batch_size=32, shuffle=False)\n",
        "for batch_X, batch_y in val_dataloader:\n",
        "    print(\"Val Batch X shape:\", batch_X.shape)  # (32, 3)\n",
        "    print(\"Val Batch y shape:\", batch_y.shape)  # (32,)\n",
        "    break  # Only process the first batch for demonstration"
      ],
      "metadata": {
        "colab": {
          "base_uri": "https://localhost:8080/"
        },
        "id": "azQME2LF3XZ-",
        "outputId": "ad09a245-32d6-4ae3-a27b-e94deb936ce1"
      },
      "execution_count": 75,
      "outputs": [
        {
          "output_type": "stream",
          "name": "stdout",
          "text": [
            "Batch X shape: torch.Size([32, 3])\n",
            "Batch y shape: torch.Size([32])\n",
            "Val Batch X shape: torch.Size([32, 3])\n",
            "Val Batch y shape: torch.Size([32])\n"
          ]
        }
      ]
    },
    {
      "cell_type": "code",
      "source": [
        "len(val_dataloader), 712*32"
      ],
      "metadata": {
        "colab": {
          "base_uri": "https://localhost:8080/"
        },
        "id": "l2Trbmwx3xTM",
        "outputId": "20e20593-561e-4f9e-fdd7-8d812151a8ea"
      },
      "execution_count": 77,
      "outputs": [
        {
          "output_type": "execute_result",
          "data": {
            "text/plain": [
              "(712, 22784)"
            ]
          },
          "metadata": {},
          "execution_count": 77
        }
      ]
    },
    {
      "cell_type": "code",
      "source": [
        "#train step\n",
        "def train_step(model:torch.nn.Module,\n",
        "               dataloader: torch.utils.data.DataLoader,\n",
        "               loss_fn : torch.nn.Module,\n",
        "               optimizer: torch.optim.Optimizer):\n",
        "\n",
        "  train_loss = 0\n",
        "  for X, y in dataloader:\n",
        "    model.train()\n",
        "    logits = model(X)\n",
        "    loss = loss_fn(logits, y)\n",
        "    train_loss +=loss.item()\n",
        "    optimizer.zero_grad()\n",
        "    loss.backward()\n",
        "    optimizer.step()\n",
        "\n",
        "  train_loss /=len(dataloader)\n",
        "  return train_loss\n"
      ],
      "metadata": {
        "id": "DIwHTTQv0o5F"
      },
      "execution_count": 79,
      "outputs": []
    },
    {
      "cell_type": "code",
      "source": [
        "def test_step(model:torch.nn.Module,\n",
        "              dataloader: torch.utils.data.DataLoader,\n",
        "              loss_fn: torch.nn.Module):\n",
        "  model.eval()\n",
        "  test_loss =0\n",
        "  with torch.inference_mode():\n",
        "    for X,y in dataloader:\n",
        "      logits = model(X)\n",
        "      loss = loss_fn(logits, y)\n",
        "      test_loss +=loss.item()\n",
        "  test_loss /=len(dataloader)\n",
        "  return test_loss"
      ],
      "metadata": {
        "id": "pu9GqYFTtlmO"
      },
      "execution_count": 82,
      "outputs": []
    },
    {
      "cell_type": "code",
      "source": [
        "from tqdm.auto import tqdm\n",
        "def train(model : torch.nn.Module,\n",
        "          train_dataloader : torch.utils.data.DataLoader,\n",
        "          test_dataloader : torch.utils.data.DataLoader,\n",
        "          loss_fn : torch.nn.Module,\n",
        "          optimizer: torch.optim.Optimizer,\n",
        "          epochs : int = 3):\n",
        "  results = {'train_loss':[],'val_loss':[]}\n",
        "  for epoch in tqdm(range(epochs)):\n",
        "    train_loss = train_step(model= model,\n",
        "                            dataloader=train_dataloader,\n",
        "                            loss_fn=loss_fn,\n",
        "                            optimizer= optimizer)\n",
        "    val_loss = test_step(model=model,\n",
        "                         dataloader=test_dataloader,\n",
        "                         loss_fn=loss_fn)\n",
        "    print(f\"Epoch : {epoch} | Train loss: {train_loss} | Test loss: {val_loss}\")\n",
        "    results['train_loss'].append(train_loss)\n",
        "    results['val_loss'].append(val_loss)\n",
        "  return results\n",
        "\n",
        ""
      ],
      "metadata": {
        "id": "1-8dk4Ri7-B0"
      },
      "execution_count": 89,
      "outputs": []
    },
    {
      "cell_type": "code",
      "source": [
        "#Training\n",
        "model = MLPModel(vocab_size=27,\n",
        "                 embedding_size=10,\n",
        "                 context_length=3,\n",
        "                 hidden_units=100,\n",
        "                 output_shape=27)\n",
        "\n",
        "loss_fn = nn.CrossEntropyLoss()\n",
        "optimizer = torch.optim.SGD(params=model.parameters(),\n",
        "                            lr = 0.1)\n"
      ],
      "metadata": {
        "id": "dWQ7dS7h9mir"
      },
      "execution_count": 94,
      "outputs": []
    },
    {
      "cell_type": "code",
      "source": [
        "from timeit import default_timer as timer\n",
        "start_time = timer()\n",
        "model_results = train(model = model,\n",
        "                      train_dataloader=train_dataloader,\n",
        "                      test_dataloader=val_dataloader,\n",
        "                      loss_fn=loss_fn,\n",
        "                      optimizer=optimizer,\n",
        "                      epochs=30)\n",
        "end_time = timer()\n",
        "print(f\"Total training time: {end_time - start_time:.3f} seconds\")"
      ],
      "metadata": {
        "colab": {
          "base_uri": "https://localhost:8080/",
          "height": 612,
          "referenced_widgets": [
            "8d1d3a2e19834c709b442edf9a9de194",
            "167e42e560db447a92a24fa655632f45",
            "26b5bd81a3204b958993182f92307615",
            "0b42a0c1ca7c494db945205f2c72b38b",
            "91e56748005d4fa7b0212e54e3047b9a",
            "9902446e01da47d7b1ea863d8b543fd2",
            "63bf9e494f904eb08c4f207065bab736",
            "b6c06675bffd4a55b5159b456c2acf9a",
            "ecda4785ed89469a9917ce11eba4df96",
            "3ee0ba593df74592b8a9b1a519601ebf",
            "dd2598792f7e427abcaf2bc2e6739928"
          ]
        },
        "id": "hUhMY95394WQ",
        "outputId": "002d6b41-8646-4c54-e48d-88255c33df9f"
      },
      "execution_count": 95,
      "outputs": [
        {
          "output_type": "display_data",
          "data": {
            "text/plain": [
              "  0%|          | 0/30 [00:00<?, ?it/s]"
            ],
            "application/vnd.jupyter.widget-view+json": {
              "version_major": 2,
              "version_minor": 0,
              "model_id": "8d1d3a2e19834c709b442edf9a9de194"
            }
          },
          "metadata": {}
        },
        {
          "output_type": "stream",
          "name": "stdout",
          "text": [
            "Epoch : 0 | Train loss: 3.532698076990603 | Test loss: 2.8422883993454193\n",
            "Epoch : 1 | Train loss: 2.583965181321773 | Test loss: 2.719717997178603\n",
            "Epoch : 2 | Train loss: 2.499368857016107 | Test loss: 2.65454798233643\n",
            "Epoch : 3 | Train loss: 2.4562571892316867 | Test loss: 2.5829693624812564\n",
            "Epoch : 4 | Train loss: 2.4279021544023296 | Test loss: 2.5173074351937585\n",
            "Epoch : 5 | Train loss: 2.40681183858739 | Test loss: 2.468927483042974\n",
            "Epoch : 6 | Train loss: 2.3874116433122543 | Test loss: 2.5485374254457067\n",
            "Epoch : 7 | Train loss: 2.373829304691115 | Test loss: 2.492255742797691\n",
            "Epoch : 8 | Train loss: 2.3604335720101726 | Test loss: 2.476895031132055\n",
            "Epoch : 9 | Train loss: 2.3483357100434907 | Test loss: 2.703422784135583\n",
            "Epoch : 10 | Train loss: 2.336840390803646 | Test loss: 2.4343758911898967\n",
            "Epoch : 11 | Train loss: 2.3299236937766743 | Test loss: 2.4079835903778504\n",
            "Epoch : 12 | Train loss: 2.322020540328161 | Test loss: 2.3937843855512275\n",
            "Epoch : 13 | Train loss: 2.316242838315653 | Test loss: 2.3944826532950563\n",
            "Epoch : 14 | Train loss: 2.311248011753794 | Test loss: 2.386105968376224\n",
            "Epoch : 15 | Train loss: 2.3068354353700675 | Test loss: 2.398014027081179\n",
            "Epoch : 16 | Train loss: 2.3025144190798303 | Test loss: 2.3649270141057754\n",
            "Epoch : 17 | Train loss: 2.2995513673624797 | Test loss: 2.3576722407943747\n",
            "Epoch : 18 | Train loss: 2.296131878328173 | Test loss: 2.414522994100378\n",
            "Epoch : 19 | Train loss: 2.292383399084132 | Test loss: 2.341169348091222\n",
            "Epoch : 20 | Train loss: 2.290027701553651 | Test loss: 2.3610487513327865\n",
            "Epoch : 21 | Train loss: 2.287218555154737 | Test loss: 2.3498575349202317\n",
            "Epoch : 22 | Train loss: 2.2845829355428195 | Test loss: 2.332096822476119\n",
            "Epoch : 23 | Train loss: 2.282969835430896 | Test loss: 2.329506139239568\n",
            "Epoch : 24 | Train loss: 2.281736600005974 | Test loss: 2.3592042688573343\n",
            "Epoch : 25 | Train loss: 2.280167274498513 | Test loss: 2.364673475368639\n",
            "Epoch : 26 | Train loss: 2.278881122316657 | Test loss: 2.3679873772551505\n",
            "Epoch : 27 | Train loss: 2.277227309744469 | Test loss: 2.3324727769313234\n",
            "Epoch : 28 | Train loss: 2.276756118093194 | Test loss: 2.3163959772399303\n",
            "Epoch : 29 | Train loss: 2.275570169598209 | Test loss: 2.3741669048754015\n",
            "Total training time: 140.388 seconds\n"
          ]
        }
      ]
    },
    {
      "cell_type": "code",
      "source": [
        "import matplotlib.pyplot as plt\n",
        "\n",
        "def plot_loss(results):\n",
        "  train_loss = results['train_loss']\n",
        "  test_loss = results['val_loss']\n",
        "  epochs = range(len(results['train_loss']))\n",
        "  plt.figure(figsize=(15,7))\n",
        "  plt.plot(epochs,train_loss, label='train')\n",
        "  plt.plot(epochs,test_loss, label='test')\n",
        "  plt.title('Loss')\n",
        "  plt.xlabel('Epoch')\n",
        "  plt.legend();\n",
        "\n",
        "plot_loss(model_results)\n"
      ],
      "metadata": {
        "colab": {
          "base_uri": "https://localhost:8080/",
          "height": 641
        },
        "id": "ByMxOUpP-mpv",
        "outputId": "41bbea47-0c12-4c6a-cb93-d4aec6e9df4f"
      },
      "execution_count": 100,
      "outputs": [
        {
          "output_type": "display_data",
          "data": {
            "text/plain": [
              "<Figure size 1500x700 with 1 Axes>"
            ],
            "image/png": "[encoded data removed]"
          },
          "metadata": {}
        }
      ]
    },
    {
      "cell_type": "code",
      "source": [
        "#sample words\n",
        "for _ in range(10):\n",
        "  out=[]\n",
        "  context=[0]*context_length\n",
        "  while True:\n",
        "    logits = model(torch.tensor([context]).unsqueeze(0))\n",
        "    probs = F.softmax(logits, dim =1)\n",
        "    ix = torch.multinomial(probs, num_samples=1, replacement=True).item()\n",
        "    context = context[1:]+ [ix]\n",
        "    out.append(ix)\n",
        "    if ix ==0:\n",
        "      break\n",
        "  print(''.join(itos[i] for i in out))"
      ],
      "metadata": {
        "colab": {
          "base_uri": "https://localhost:8080/"
        },
        "id": "8lcr5VD2BmF9",
        "outputId": "1248ba86-be81-4c7e-f86c-004d064f6b19"
      },
      "execution_count": 108,
      "outputs": [
        {
          "output_type": "stream",
          "name": "stdout",
          "text": [
            "mena.\n",
            "taviah.\n",
            "eve.\n",
            "maelysnobellosiyah.\n",
            "mos.\n",
            "caliyah.\n",
            "jine.\n",
            "hahahrin.\n",
            "zacavincoyah.\n",
            "taliudisim.\n"
          ]
        }
      ]
    },
    {
      "cell_type": "code",
      "source": [],
      "metadata": {
        "id": "Fwg9e_vLDBGD"
      },
      "execution_count": null,
      "outputs": []
    }
  ]
}