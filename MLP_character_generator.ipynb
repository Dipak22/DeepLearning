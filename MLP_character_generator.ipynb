{
  "nbformat": 4,
  "nbformat_minor": 0,
  "metadata": {
    "colab": {
      "provenance": [],
      "authorship_tag": "ABX9TyO79j1AQuWBdFm3fkk88ejM",
      "include_colab_link": true
    },
    "kernelspec": {
      "name": "python3",
      "display_name": "Python 3"
    },
    "language_info": {
      "name": "python"
    },
    "widgets": {
      "application/vnd.jupyter.widget-state+json": {
        "861ad9f324a5482ebeb380b384741e1d": {
          "model_module": "@jupyter-widgets/controls",
          "model_name": "HBoxModel",
          "model_module_version": "1.5.0",
          "state": {
            "_dom_classes": [],
            "_model_module": "@jupyter-widgets/controls",
            "_model_module_version": "1.5.0",
            "_model_name": "HBoxModel",
            "_view_count": null,
            "_view_module": "@jupyter-widgets/controls",
            "_view_module_version": "1.5.0",
            "_view_name": "HBoxView",
            "box_style": "",
            "children": [
              "IPY_MODEL_58be7c74fa2d45799902656b1164ad9c",
              "IPY_MODEL_42752b9079b34062bb86f288b75e7928",
              "IPY_MODEL_43b313863f5e4148837ce401eb6ecae1"
            ],
            "layout": "IPY_MODEL_a37dae8bcb164cbfb45cef80ca436495"
          }
        },
        "58be7c74fa2d45799902656b1164ad9c": {
          "model_module": "@jupyter-widgets/controls",
          "model_name": "HTMLModel",
          "model_module_version": "1.5.0",
          "state": {
            "_dom_classes": [],
            "_model_module": "@jupyter-widgets/controls",
            "_model_module_version": "1.5.0",
            "_model_name": "HTMLModel",
            "_view_count": null,
            "_view_module": "@jupyter-widgets/controls",
            "_view_module_version": "1.5.0",
            "_view_name": "HTMLView",
            "description": "",
            "description_tooltip": null,
            "layout": "IPY_MODEL_2c4427bf74434f56afd010f0eb9cd2ff",
            "placeholder": "​",
            "style": "IPY_MODEL_64d437d42f9e437fb3b06a19b39acfbd",
            "value": "100%"
          }
        },
        "42752b9079b34062bb86f288b75e7928": {
          "model_module": "@jupyter-widgets/controls",
          "model_name": "FloatProgressModel",
          "model_module_version": "1.5.0",
          "state": {
            "_dom_classes": [],
            "_model_module": "@jupyter-widgets/controls",
            "_model_module_version": "1.5.0",
            "_model_name": "FloatProgressModel",
            "_view_count": null,
            "_view_module": "@jupyter-widgets/controls",
            "_view_module_version": "1.5.0",
            "_view_name": "ProgressView",
            "bar_style": "success",
            "description": "",
            "description_tooltip": null,
            "layout": "IPY_MODEL_80e432eda48f404882d841e54b3c9bb3",
            "max": 2,
            "min": 0,
            "orientation": "horizontal",
            "style": "IPY_MODEL_d19ec3e99c9547e2b6df9108eb1208e3",
            "value": 2
          }
        },
        "43b313863f5e4148837ce401eb6ecae1": {
          "model_module": "@jupyter-widgets/controls",
          "model_name": "HTMLModel",
          "model_module_version": "1.5.0",
          "state": {
            "_dom_classes": [],
            "_model_module": "@jupyter-widgets/controls",
            "_model_module_version": "1.5.0",
            "_model_name": "HTMLModel",
            "_view_count": null,
            "_view_module": "@jupyter-widgets/controls",
            "_view_module_version": "1.5.0",
            "_view_name": "HTMLView",
            "description": "",
            "description_tooltip": null,
            "layout": "IPY_MODEL_b93b9747ea8542879d167119c9b36ecf",
            "placeholder": "​",
            "style": "IPY_MODEL_5b4f9401a59c4109865afc3c657bbb6c",
            "value": " 2/2 [00:24&lt;00:00, 12.07s/it]"
          }
        },
        "a37dae8bcb164cbfb45cef80ca436495": {
          "model_module": "@jupyter-widgets/base",
          "model_name": "LayoutModel",
          "model_module_version": "1.2.0",
          "state": {
            "_model_module": "@jupyter-widgets/base",
            "_model_module_version": "1.2.0",
            "_model_name": "LayoutModel",
            "_view_count": null,
            "_view_module": "@jupyter-widgets/base",
            "_view_module_version": "1.2.0",
            "_view_name": "LayoutView",
            "align_content": null,
            "align_items": null,
            "align_self": null,
            "border": null,
            "bottom": null,
            "display": null,
            "flex": null,
            "flex_flow": null,
            "grid_area": null,
            "grid_auto_columns": null,
            "grid_auto_flow": null,
            "grid_auto_rows": null,
            "grid_column": null,
            "grid_gap": null,
            "grid_row": null,
            "grid_template_areas": null,
            "grid_template_columns": null,
            "grid_template_rows": null,
            "height": null,
            "justify_content": null,
            "justify_items": null,
            "left": null,
            "margin": null,
            "max_height": null,
            "max_width": null,
            "min_height": null,
            "min_width": null,
            "object_fit": null,
            "object_position": null,
            "order": null,
            "overflow": null,
            "overflow_x": null,
            "overflow_y": null,
            "padding": null,
            "right": null,
            "top": null,
            "visibility": null,
            "width": null
          }
        },
        "2c4427bf74434f56afd010f0eb9cd2ff": {
          "model_module": "@jupyter-widgets/base",
          "model_name": "LayoutModel",
          "model_module_version": "1.2.0",
          "state": {
            "_model_module": "@jupyter-widgets/base",
            "_model_module_version": "1.2.0",
            "_model_name": "LayoutModel",
            "_view_count": null,
            "_view_module": "@jupyter-widgets/base",
            "_view_module_version": "1.2.0",
            "_view_name": "LayoutView",
            "align_content": null,
            "align_items": null,
            "align_self": null,
            "border": null,
            "bottom": null,
            "display": null,
            "flex": null,
            "flex_flow": null,
            "grid_area": null,
            "grid_auto_columns": null,
            "grid_auto_flow": null,
            "grid_auto_rows": null,
            "grid_column": null,
            "grid_gap": null,
            "grid_row": null,
            "grid_template_areas": null,
            "grid_template_columns": null,
            "grid_template_rows": null,
            "height": null,
            "justify_content": null,
            "justify_items": null,
            "left": null,
            "margin": null,
            "max_height": null,
            "max_width": null,
            "min_height": null,
            "min_width": null,
            "object_fit": null,
            "object_position": null,
            "order": null,
            "overflow": null,
            "overflow_x": null,
            "overflow_y": null,
            "padding": null,
            "right": null,
            "top": null,
            "visibility": null,
            "width": null
          }
        },
        "64d437d42f9e437fb3b06a19b39acfbd": {
          "model_module": "@jupyter-widgets/controls",
          "model_name": "DescriptionStyleModel",
          "model_module_version": "1.5.0",
          "state": {
            "_model_module": "@jupyter-widgets/controls",
            "_model_module_version": "1.5.0",
            "_model_name": "DescriptionStyleModel",
            "_view_count": null,
            "_view_module": "@jupyter-widgets/base",
            "_view_module_version": "1.2.0",
            "_view_name": "StyleView",
            "description_width": ""
          }
        },
        "80e432eda48f404882d841e54b3c9bb3": {
          "model_module": "@jupyter-widgets/base",
          "model_name": "LayoutModel",
          "model_module_version": "1.2.0",
          "state": {
            "_model_module": "@jupyter-widgets/base",
            "_model_module_version": "1.2.0",
            "_model_name": "LayoutModel",
            "_view_count": null,
            "_view_module": "@jupyter-widgets/base",
            "_view_module_version": "1.2.0",
            "_view_name": "LayoutView",
            "align_content": null,
            "align_items": null,
            "align_self": null,
            "border": null,
            "bottom": null,
            "display": null,
            "flex": null,
            "flex_flow": null,
            "grid_area": null,
            "grid_auto_columns": null,
            "grid_auto_flow": null,
            "grid_auto_rows": null,
            "grid_column": null,
            "grid_gap": null,
            "grid_row": null,
            "grid_template_areas": null,
            "grid_template_columns": null,
            "grid_template_rows": null,
            "height": null,
            "justify_content": null,
            "justify_items": null,
            "left": null,
            "margin": null,
            "max_height": null,
            "max_width": null,
            "min_height": null,
            "min_width": null,
            "object_fit": null,
            "object_position": null,
            "order": null,
            "overflow": null,
            "overflow_x": null,
            "overflow_y": null,
            "padding": null,
            "right": null,
            "top": null,
            "visibility": null,
            "width": null
          }
        },
        "d19ec3e99c9547e2b6df9108eb1208e3": {
          "model_module": "@jupyter-widgets/controls",
          "model_name": "ProgressStyleModel",
          "model_module_version": "1.5.0",
          "state": {
            "_model_module": "@jupyter-widgets/controls",
            "_model_module_version": "1.5.0",
            "_model_name": "ProgressStyleModel",
            "_view_count": null,
            "_view_module": "@jupyter-widgets/base",
            "_view_module_version": "1.2.0",
            "_view_name": "StyleView",
            "bar_color": null,
            "description_width": ""
          }
        },
        "b93b9747ea8542879d167119c9b36ecf": {
          "model_module": "@jupyter-widgets/base",
          "model_name": "LayoutModel",
          "model_module_version": "1.2.0",
          "state": {
            "_model_module": "@jupyter-widgets/base",
            "_model_module_version": "1.2.0",
            "_model_name": "LayoutModel",
            "_view_count": null,
            "_view_module": "@jupyter-widgets/base",
            "_view_module_version": "1.2.0",
            "_view_name": "LayoutView",
            "align_content": null,
            "align_items": null,
            "align_self": null,
            "border": null,
            "bottom": null,
            "display": null,
            "flex": null,
            "flex_flow": null,
            "grid_area": null,
            "grid_auto_columns": null,
            "grid_auto_flow": null,
            "grid_auto_rows": null,
            "grid_column": null,
            "grid_gap": null,
            "grid_row": null,
            "grid_template_areas": null,
            "grid_template_columns": null,
            "grid_template_rows": null,
            "height": null,
            "justify_content": null,
            "justify_items": null,
            "left": null,
            "margin": null,
            "max_height": null,
            "max_width": null,
            "min_height": null,
            "min_width": null,
            "object_fit": null,
            "object_position": null,
            "order": null,
            "overflow": null,
            "overflow_x": null,
            "overflow_y": null,
            "padding": null,
            "right": null,
            "top": null,
            "visibility": null,
            "width": null
          }
        },
        "5b4f9401a59c4109865afc3c657bbb6c": {
          "model_module": "@jupyter-widgets/controls",
          "model_name": "DescriptionStyleModel",
          "model_module_version": "1.5.0",
          "state": {
            "_model_module": "@jupyter-widgets/controls",
            "_model_module_version": "1.5.0",
            "_model_name": "DescriptionStyleModel",
            "_view_count": null,
            "_view_module": "@jupyter-widgets/base",
            "_view_module_version": "1.2.0",
            "_view_name": "StyleView",
            "description_width": ""
          }
        }
      }
    }
  },
  "cells": [
    {
      "cell_type": "markdown",
      "metadata": {
        "id": "view-in-github",
        "colab_type": "text"
      },
      "source": [
        "<a href=\"https://colab.research.google.com/github/Dipak22/DeepLearning/blob/master/MLP_character_generator.ipynb\" target=\"_parent\"><img src=\"https://colab.research.google.com/assets/colab-badge.svg\" alt=\"Open In Colab\"/></a>"
      ]
    },
    {
      "cell_type": "code",
      "execution_count": 2,
      "metadata": {
        "id": "KHkq-w_4U-lm"
      },
      "outputs": [],
      "source": [
        "import requests\n",
        "import torch\n",
        "\n",
        "with open('names.txt','wb') as f:\n",
        "  content = requests.get('https://github.com/karpathy/makemore/raw/master/names.txt')\n",
        "  f.write(content.content)"
      ]
    },
    {
      "cell_type": "code",
      "source": [
        "words = open('names.txt','r').read().splitlines()\n",
        "len(words)"
      ],
      "metadata": {
        "colab": {
          "base_uri": "https://localhost:8080/"
        },
        "id": "VSSsWS9-VCOa",
        "outputId": "98011866-ce4a-4d3c-e307-00176fba75fd"
      },
      "execution_count": 3,
      "outputs": [
        {
          "output_type": "execute_result",
          "data": {
            "text/plain": [
              "32033"
            ]
          },
          "metadata": {},
          "execution_count": 3
        }
      ]
    },
    {
      "cell_type": "code",
      "source": [
        "chars = sorted(list(set(''.join(words))))\n"
      ],
      "metadata": {
        "id": "Sb4pxDMKVIW7"
      },
      "execution_count": 4,
      "outputs": []
    },
    {
      "cell_type": "code",
      "source": [
        "stoi = {s:i+1 for i,s in enumerate(chars)}\n",
        "stoi['.'] =0\n",
        "itos = {i: c for c,i in stoi.items()}\n",
        "itos"
      ],
      "metadata": {
        "colab": {
          "base_uri": "https://localhost:8080/"
        },
        "collapsed": true,
        "id": "JovyZYZsVgKe",
        "outputId": "b7232646-9044-46ed-b913-c26886fffe85"
      },
      "execution_count": 5,
      "outputs": [
        {
          "output_type": "execute_result",
          "data": {
            "text/plain": [
              "{1: 'a',\n",
              " 2: 'b',\n",
              " 3: 'c',\n",
              " 4: 'd',\n",
              " 5: 'e',\n",
              " 6: 'f',\n",
              " 7: 'g',\n",
              " 8: 'h',\n",
              " 9: 'i',\n",
              " 10: 'j',\n",
              " 11: 'k',\n",
              " 12: 'l',\n",
              " 13: 'm',\n",
              " 14: 'n',\n",
              " 15: 'o',\n",
              " 16: 'p',\n",
              " 17: 'q',\n",
              " 18: 'r',\n",
              " 19: 's',\n",
              " 20: 't',\n",
              " 21: 'u',\n",
              " 22: 'v',\n",
              " 23: 'w',\n",
              " 24: 'x',\n",
              " 25: 'y',\n",
              " 26: 'z',\n",
              " 0: '.'}"
            ]
          },
          "metadata": {},
          "execution_count": 5
        }
      ]
    },
    {
      "cell_type": "code",
      "source": [
        "#create the dataset for the MLP model\n",
        "def build_dataset(words):\n",
        "  context_length = 3\n",
        "  xs = []\n",
        "  ys = []\n",
        "  for word in words:\n",
        "    context = [0]*3\n",
        "    for c in word+'.':\n",
        "      xs.append(context)\n",
        "      ix = stoi[c]\n",
        "      ys.append(ix)\n",
        "      #print(f\"input {''.join(itos[i] for i in context)} output = {c}\")\n",
        "      context = context[1:] + [ix]\n",
        "  X = torch.tensor(xs)\n",
        "  y = torch.tensor(ys)\n",
        "  return X,y"
      ],
      "metadata": {
        "collapsed": true,
        "id": "Ldh9XetUWAMH"
      },
      "execution_count": 6,
      "outputs": []
    },
    {
      "cell_type": "code",
      "source": [
        "#create train , val and test dataset\n",
        "import random\n",
        "random.seed(42)\n",
        "random.shuffle(words)\n",
        "\n",
        "n1 = int(0.8 * len(words))\n",
        "n2 = int(0.9 * len(words))\n",
        "X_train, y_train = build_dataset(words[:n1])\n",
        "X_val, y_val = build_dataset(words[n1:n2])\n",
        "X_test, y_test = build_dataset(words[n2:])\n",
        "print(f\" Train data shapes {X_train.shape} {y_train.shape}\")\n",
        "print(f\" Validation data shapes {X_val.shape} {y_val.shape}\")\n",
        "print(f\" Test data shapes {X_test.shape} {y_test.shape}\")"
      ],
      "metadata": {
        "colab": {
          "base_uri": "https://localhost:8080/"
        },
        "id": "iux8jX1aq_cE",
        "outputId": "a77090b7-ecd6-4943-c182-cabfd26f99cf"
      },
      "execution_count": 7,
      "outputs": [
        {
          "output_type": "stream",
          "name": "stdout",
          "text": [
            " Train data shapes torch.Size([182625, 3]) torch.Size([182625])\n",
            " Validation data shapes torch.Size([22655, 3]) torch.Size([22655])\n",
            " Test data shapes torch.Size([22866, 3]) torch.Size([22866])\n"
          ]
        }
      ]
    },
    {
      "cell_type": "code",
      "source": [
        "from torch import nn\n",
        "import torch.nn.functional as F"
      ],
      "metadata": {
        "id": "jeaz3cFWum8v"
      },
      "execution_count": 8,
      "outputs": []
    },
    {
      "cell_type": "code",
      "source": [
        "# define the MLP model\n",
        "class MLPModel(nn.Module):\n",
        "  def __init__(self,vocab_size = 27,embedding_size = 2, context_length =3, hidden_units =100, output_shape= 27):\n",
        "    super().__init__()\n",
        "    #Embedding layer\n",
        "    self.embedding = nn.Embedding(vocab_size, embedding_size)\n",
        "    #Parameters\n",
        "    #self.W1 = nn.Parameter(torch.randn((context_length * embedding_size,hidden_units)))\n",
        "    #self.b1 = nn.Parameter(torch.randn(hidden_units))\n",
        "    #self.W2 = nn.Parameter(torch.randn((hidden_units, output_shape)))\n",
        "    #self.b2 = nn.Parameter(torch.randn(output_shape))\n",
        "    self.linear_1 = nn.Linear(in_features= context_length * embedding_size, out_features=hidden_units, bias=False)\n",
        "    self.bn_1 = nn.BatchNorm1d(num_features=hidden_units)\n",
        "    self.non_linear = nn.Tanh()\n",
        "    self.linear_2 = nn.Linear(in_features= hidden_units, out_features=hidden_units, bias=False)\n",
        "    self.bn_2 = nn.BatchNorm1d(num_features=hidden_units)\n",
        "    self.linear_3 = nn.Linear(in_features= hidden_units, out_features=output_shape, bias=False)\n",
        "    self.bn_3 = nn.BatchNorm1d(num_features=output_shape)\n",
        "    #self.count = 0\n",
        "\n",
        "  def forward(self,X):\n",
        "    emb = self.embedding(X)\n",
        "    #print(emb.shape)\n",
        "    h = self.linear_1(emb.view(X.shape[0], -1))\n",
        "    #print(h.shape)\n",
        "    h = self.bn_1(h)\n",
        "    #print(h.shape)\n",
        "    h = self.non_linear(h)\n",
        "    #print(h.shape)\n",
        "    h = self.non_linear(self.bn_2(self.linear_2(h)))\n",
        "    #print(h.shape)\n",
        "    logits = self.bn_3(self.linear_3(h))\n",
        "    #print(logits.shape)\n",
        "    #self.count +=1\n",
        "    #print(f\"count: {self.count}\")\n",
        "\n",
        "    return logits"
      ],
      "metadata": {
        "id": "OOGekzwJwNMx"
      },
      "execution_count": 34,
      "outputs": []
    },
    {
      "cell_type": "code",
      "source": [
        "# create Dataloaders\n",
        "from torch.utils.data import TensorDataset, DataLoader"
      ],
      "metadata": {
        "id": "dv2a26Lq3PQ6"
      },
      "execution_count": 10,
      "outputs": []
    },
    {
      "cell_type": "code",
      "source": [
        "train_dataset = TensorDataset(X_train, y_train)\n",
        "train_dataloader = DataLoader(dataset=train_dataset, batch_size=32, shuffle=True, drop_last=True)\n",
        "for batch_X, batch_y in train_dataloader:\n",
        "    print(\"Batch X shape:\", batch_X.shape)  # (32, 3)\n",
        "    print(\"Batch y shape:\", batch_y.shape)  # (32,)\n",
        "    break  # Only process the first batch for demonstration\n",
        "val_dataset = TensorDataset(X_val, y_val)\n",
        "val_dataloader = DataLoader(dataset=val_dataset, batch_size=32, shuffle=False)\n",
        "for batch_X, batch_y in val_dataloader:\n",
        "    print(\"Val Batch X shape:\", batch_X.shape)  # (32, 3)\n",
        "    print(\"Val Batch y shape:\", batch_y.shape)  # (32,)\n",
        "    break  # Only process the first batch for demonstration"
      ],
      "metadata": {
        "colab": {
          "base_uri": "https://localhost:8080/"
        },
        "id": "azQME2LF3XZ-",
        "outputId": "130fb9a0-5293-485c-b375-c7be1233f4db"
      },
      "execution_count": 35,
      "outputs": [
        {
          "output_type": "stream",
          "name": "stdout",
          "text": [
            "Batch X shape: torch.Size([32, 3])\n",
            "Batch y shape: torch.Size([32])\n",
            "Val Batch X shape: torch.Size([32, 3])\n",
            "Val Batch y shape: torch.Size([32])\n"
          ]
        }
      ]
    },
    {
      "cell_type": "code",
      "source": [
        "len(train_dataloader), 5708 * 32,182656 - 182625"
      ],
      "metadata": {
        "colab": {
          "base_uri": "https://localhost:8080/"
        },
        "id": "l2Trbmwx3xTM",
        "outputId": "23438010-5d40-483b-b8e1-4b306935118b"
      },
      "execution_count": 36,
      "outputs": [
        {
          "output_type": "execute_result",
          "data": {
            "text/plain": [
              "(5707, 182656, 31)"
            ]
          },
          "metadata": {},
          "execution_count": 36
        }
      ]
    },
    {
      "cell_type": "code",
      "source": [
        "#train step\n",
        "def train_step(model:torch.nn.Module,\n",
        "               dataloader: torch.utils.data.DataLoader,\n",
        "               loss_fn : torch.nn.Module,\n",
        "               optimizer: torch.optim.Optimizer):\n",
        "\n",
        "  train_loss = 0\n",
        "  for X, y in dataloader:\n",
        "    model.train()\n",
        "    logits = model(X)\n",
        "    loss = loss_fn(logits, y)\n",
        "    train_loss +=loss.item()\n",
        "    optimizer.zero_grad()\n",
        "    loss.backward()\n",
        "    optimizer.step()\n",
        "\n",
        "  train_loss /=len(dataloader)\n",
        "  return train_loss\n"
      ],
      "metadata": {
        "id": "DIwHTTQv0o5F"
      },
      "execution_count": 37,
      "outputs": []
    },
    {
      "cell_type": "code",
      "source": [
        "#Training\n",
        "model = MLPModel(vocab_size=27,\n",
        "                 embedding_size=10,\n",
        "                 context_length=3,\n",
        "                 hidden_units=100,\n",
        "                 output_shape=27)\n",
        "\n",
        "loss_fn = nn.CrossEntropyLoss()\n",
        "optimizer = torch.optim.SGD(params=model.parameters(),\n",
        "                            lr = 0.1)\n",
        "for _ in range(1):\n",
        "  print(train_step(model=model, dataloader=train_dataloader, loss_fn=loss_fn, optimizer= optimizer))"
      ],
      "metadata": {
        "colab": {
          "base_uri": "https://localhost:8080/"
        },
        "collapsed": true,
        "id": "3Fd3dDQZpDbb",
        "outputId": "e3c4b1b7-7536-47d2-f79d-9021dbc65e33"
      },
      "execution_count": 38,
      "outputs": [
        {
          "output_type": "stream",
          "name": "stdout",
          "text": [
            "2.382526726966692\n"
          ]
        }
      ]
    },
    {
      "cell_type": "code",
      "source": [
        "def test_step(model:torch.nn.Module,\n",
        "              dataloader: torch.utils.data.DataLoader,\n",
        "              loss_fn: torch.nn.Module):\n",
        "  model.eval()\n",
        "  test_loss =0\n",
        "  with torch.inference_mode():\n",
        "    for X,y in dataloader:\n",
        "      logits = model(X)\n",
        "      loss = loss_fn(logits, y)\n",
        "      test_loss +=loss.item()\n",
        "  test_loss /=len(dataloader)\n",
        "  return test_loss"
      ],
      "metadata": {
        "id": "pu9GqYFTtlmO"
      },
      "execution_count": 39,
      "outputs": []
    },
    {
      "cell_type": "code",
      "source": [
        "from tqdm.auto import tqdm\n",
        "def train(model : torch.nn.Module,\n",
        "          train_dataloader : torch.utils.data.DataLoader,\n",
        "          test_dataloader : torch.utils.data.DataLoader,\n",
        "          loss_fn : torch.nn.Module,\n",
        "          optimizer: torch.optim.Optimizer,\n",
        "          epochs : int = 3):\n",
        "  results = {'train_loss':[],'val_loss':[]}\n",
        "  for epoch in tqdm(range(epochs)):\n",
        "    train_loss = train_step(model= model,\n",
        "                            dataloader=train_dataloader,\n",
        "                            loss_fn=loss_fn,\n",
        "                            optimizer= optimizer)\n",
        "    val_loss = test_step(model=model,\n",
        "                         dataloader=test_dataloader,\n",
        "                         loss_fn=loss_fn)\n",
        "    print(f\"Epoch : {epoch} | Train loss: {train_loss} | Test loss: {val_loss}\")\n",
        "    results['train_loss'].append(train_loss)\n",
        "    results['val_loss'].append(val_loss)\n",
        "  return results\n",
        "\n",
        ""
      ],
      "metadata": {
        "id": "1-8dk4Ri7-B0"
      },
      "execution_count": 40,
      "outputs": []
    },
    {
      "cell_type": "code",
      "source": [
        "#Training\n",
        "model = MLPModel(vocab_size=27,\n",
        "                 embedding_size=10,\n",
        "                 context_length=3,\n",
        "                 hidden_units=100,\n",
        "                 output_shape=27)\n",
        "\n",
        "loss_fn = nn.CrossEntropyLoss()\n",
        "optimizer = torch.optim.SGD(params=model.parameters(),\n",
        "                            lr = 0.1)\n"
      ],
      "metadata": {
        "id": "dWQ7dS7h9mir"
      },
      "execution_count": 41,
      "outputs": []
    },
    {
      "cell_type": "code",
      "source": [
        "from timeit import default_timer as timer\n",
        "start_time = timer()\n",
        "model_results = train(model = model,\n",
        "                      train_dataloader=train_dataloader,\n",
        "                      test_dataloader=val_dataloader,\n",
        "                      loss_fn=loss_fn,\n",
        "                      optimizer=optimizer,\n",
        "                      epochs=2)\n",
        "end_time = timer()\n",
        "print(f\"Total training time: {end_time - start_time:.3f} seconds\")"
      ],
      "metadata": {
        "colab": {
          "base_uri": "https://localhost:8080/",
          "height": 103,
          "referenced_widgets": [
            "861ad9f324a5482ebeb380b384741e1d",
            "58be7c74fa2d45799902656b1164ad9c",
            "42752b9079b34062bb86f288b75e7928",
            "43b313863f5e4148837ce401eb6ecae1",
            "a37dae8bcb164cbfb45cef80ca436495",
            "2c4427bf74434f56afd010f0eb9cd2ff",
            "64d437d42f9e437fb3b06a19b39acfbd",
            "80e432eda48f404882d841e54b3c9bb3",
            "d19ec3e99c9547e2b6df9108eb1208e3",
            "b93b9747ea8542879d167119c9b36ecf",
            "5b4f9401a59c4109865afc3c657bbb6c"
          ]
        },
        "id": "hUhMY95394WQ",
        "outputId": "1b014f4d-6a92-41cc-a559-00c8a391a255"
      },
      "execution_count": 42,
      "outputs": [
        {
          "output_type": "display_data",
          "data": {
            "text/plain": [
              "  0%|          | 0/2 [00:00<?, ?it/s]"
            ],
            "application/vnd.jupyter.widget-view+json": {
              "version_major": 2,
              "version_minor": 0,
              "model_id": "861ad9f324a5482ebeb380b384741e1d"
            }
          },
          "metadata": {}
        },
        {
          "output_type": "stream",
          "name": "stdout",
          "text": [
            "Epoch : 0 | Train loss: 2.375133672152423 | Test loss: 2.2641817743832107\n",
            "Epoch : 1 | Train loss: 2.2753719933421093 | Test loss: 2.22275162063076\n",
            "Total training time: 24.210 seconds\n"
          ]
        }
      ]
    },
    {
      "cell_type": "code",
      "source": [
        "import matplotlib.pyplot as plt\n",
        "\n",
        "def plot_loss(results):\n",
        "  train_loss = results['train_loss']\n",
        "  test_loss = results['val_loss']\n",
        "  epochs = range(len(results['train_loss']))\n",
        "  plt.figure(figsize=(15,7))\n",
        "  plt.plot(epochs,train_loss, label='train')\n",
        "  plt.plot(epochs,test_loss, label='test')\n",
        "  plt.title('Loss')\n",
        "  plt.xlabel('Epoch')\n",
        "  plt.legend();\n",
        "\n",
        "plot_loss(model_results)\n"
      ],
      "metadata": {
        "colab": {
          "base_uri": "https://localhost:8080/",
          "height": 641
        },
        "id": "ByMxOUpP-mpv",
        "outputId": "5ab0a4c5-f132-4ebc-b9c9-b357f6262ebc"
      },
      "execution_count": 43,
      "outputs": [
        {
          "output_type": "display_data",
          "data": {
            "text/plain": [
              "<Figure size 1500x700 with 1 Axes>"
            ],
            "image/png": "[encoded data removed]"
          },
          "metadata": {}
        }
      ]
    },
    {
      "cell_type": "code",
      "source": [
        "#sample words\n",
        "for _ in range(10):\n",
        "  out=[]\n",
        "  context=[0]*3\n",
        "  while True:\n",
        "    logits = model(torch.tensor([context]))\n",
        "    probs = F.softmax(logits, dim =1)\n",
        "    ix = torch.multinomial(probs, num_samples=1, replacement=True).item()\n",
        "    context = context[1:]+ [ix]\n",
        "    out.append(ix)\n",
        "    if ix ==0:\n",
        "      break\n",
        "  print(''.join(itos[i] for i in out))"
      ],
      "metadata": {
        "colab": {
          "base_uri": "https://localhost:8080/"
        },
        "id": "8lcr5VD2BmF9",
        "outputId": "e5145a7f-5509-4a3c-cba1-7c5a86142051"
      },
      "execution_count": 47,
      "outputs": [
        {
          "output_type": "stream",
          "name": "stdout",
          "text": [
            "soriu.\n",
            "qui.\n",
            "p.\n",
            "kantas.\n",
            "zaklie.\n",
            "soh.\n",
            "nakhowozmyn.\n",
            "kari.\n",
            "jaymaa.\n",
            "sta.\n"
          ]
        }
      ]
    },
    {
      "cell_type": "code",
      "source": [],
      "metadata": {
        "id": "HvfA7KhAnMv6"
      },
      "execution_count": null,
      "outputs": []
    }
  ]
}